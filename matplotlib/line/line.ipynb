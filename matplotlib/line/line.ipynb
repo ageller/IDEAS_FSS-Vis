{
 "cells": [
  {
   "cell_type": "markdown",
   "metadata": {},
   "source": [
    "# Line Plot Demo\n"
   ]
  },
  {
   "cell_type": "code",
   "execution_count": null,
   "metadata": {},
   "outputs": [],
   "source": [
    "import numpy as np\n",
    "import matplotlib\n",
    "from matplotlib import pyplot as plt\n",
    "\n",
    "%matplotlib inline"
   ]
  },
  {
   "cell_type": "markdown",
   "metadata": {},
   "source": [
    "## Create some fake data\n",
    "\n",
    "*I'm using numpy to create a bunch of random curves.  Let's imagine that these are spectra or seimological data.  Each curve has a similar format, but there were taken at different times. We want to show all the data to compare each together.*"
   ]
  },
  {
   "cell_type": "code",
   "execution_count": null,
   "metadata": {},
   "outputs": [],
   "source": [
    "nval = 500\n",
    "x = np.linspace(0, nval-1, nval)"
   ]
  },
  {
   "cell_type": "code",
   "execution_count": null,
   "metadata": {},
   "outputs": [],
   "source": [
    "def gauss(x,s,m,a):\n",
    "    return a*np.exp(-0.5*((x - m)/s)**2.)\n",
    "\n",
    "nline = 10\n",
    "y = np.empty((nline, nval))\n",
    "for i in range(nline):\n",
    "    #add some random noise\n",
    "    y[i,:] = np.random.random(size=nval) - 0.5\n",
    "    \n",
    "for i in range(nline):\n",
    "    #add a few random Gaussians\n",
    "    for foo in range(10):\n",
    "        mean = np.random.random()*nval\n",
    "        stdev = np.random.random() + 2\n",
    "        amp = -10*np.random.random()\n",
    "        y[i,:] +=  gauss(x,stdev,mean,amp)\n",
    "\n",
    "#define the times\n",
    "times = np.linspace(1, nline-1, nline) +  np.random.random(size=nline)-0.5\n",
    "\n",
    "print(times)"
   ]
  },
  {
   "cell_type": "markdown",
   "metadata": {},
   "source": [
    "## Let's plot these in one plot"
   ]
  },
  {
   "cell_type": "code",
   "execution_count": null,
   "metadata": {},
   "outputs": [],
   "source": [
    "#define the subplots and figure size\n",
    "f, ax = plt.subplots()\n",
    "\n",
    "for i in range(nline):\n",
    "    ax.plot(x,y[i,:])\n",
    "\n"
   ]
  },
  {
   "cell_type": "markdown",
   "metadata": {},
   "source": [
    "##### How can we make this better\n",
    "* Right now it is a jumble of lines.  We want to separate them out somehow.  \n",
    "* We also want to label the lines, but it will be combersome to have so many items in a legend\n",
    "* We want to choose our own colors\n",
    "* We want to be sure to label the axes"
   ]
  },
  {
   "cell_type": "markdown",
   "metadata": {},
   "source": [
    "*One option could be to spread the lines out using a default offset, and perhaps to color code them using a sequential colormap.  This might work, for instance, if these measurements were taken in resonalby consistent intervals of time (e.g., a spectrum taken every few seconds)*"
   ]
  },
  {
   "cell_type": "code",
   "execution_count": null,
   "metadata": {
    "scrolled": false
   },
   "outputs": [],
   "source": [
    "f, ax = plt.subplots(figsize=(10, 10))\n",
    "\n",
    "#define some offset\n",
    "offset = 10.\n",
    "\n",
    "#choose some colormap\n",
    "cmap = matplotlib.cm.get_cmap('viridis_r')\n",
    "\n",
    "\n",
    "for i in range(nline):\n",
    "    ax.plot(x,y[i,:] + offset*i, c=cmap(times[i]/nline))\n",
    "\n",
    "#add the colorbar on right side of the plot\n",
    "cax = f.add_axes([0.92, 0.125, 0.03, 0.755])\n",
    "sm = plt.cm.ScalarMappable(cmap=cmap, norm=plt.Normalize(vmin=0, vmax=nline))\n",
    "f.colorbar(sm, cax=cax, orientation='vertical')\n",
    "cax.set_ylabel('time', fontsize=14)\n",
    "\n",
    "ax.set_xlabel('frequency', fontsize=20)\n",
    "ax.set_ylabel('intensity + offset', fontsize=20)\n",
    "\n",
    "f.savefig('line1.pdf',format='pdf', bbox_inches = 'tight') \n"
   ]
  },
  {
   "cell_type": "markdown",
   "metadata": {},
   "source": [
    "## Now let's imagine that one of these lines is different from the others\n",
    "\n",
    "*How can we highlight and identify it visually?*"
   ]
  },
  {
   "cell_type": "code",
   "execution_count": null,
   "metadata": {},
   "outputs": [],
   "source": [
    "#let's make one line a little different\n",
    "jdiff = 3\n",
    "for foo in range(10):\n",
    "    mean = np.random.random()*nval\n",
    "    stdev = np.random.random()*4 + 6\n",
    "    amp = -5*np.random.random()\n",
    "    y[jdiff,:] += gauss(x,stdev,mean,amp)"
   ]
  },
  {
   "cell_type": "markdown",
   "metadata": {},
   "source": [
    "*For this plot, let's note the times in text, and identify the line of interest with color.  Using text to identify the lines, instead of a colormap, would also help if the differences in times were wildly different (e.g., if some taken with seconds of each other while others were taken years apart).*"
   ]
  },
  {
   "cell_type": "code",
   "execution_count": null,
   "metadata": {},
   "outputs": [],
   "source": [
    "f, ax = plt.subplots(figsize=(10, 10))\n",
    "\n",
    "#define some offset\n",
    "offset = 10.\n",
    "\n",
    "for i in range(nline):\n",
    "    c = 'gray'\n",
    "    w = 1\n",
    "    if (i == jdiff):\n",
    "        c = 'firebrick'\n",
    "        w = 2\n",
    "    ax.plot(x,y[i,:] + offset*i, c=c, linewidth=w)\n",
    "    ax.text(nval+10, offset*i-1, \"{:5.3f}\".format(times[i]), fontsize=14,c=c)\n",
    "    \n",
    "ax.set_xlabel('frequency', fontsize=20)\n",
    "ax.set_ylabel('intensity + offset', fontsize=20)\n",
    "ax.text(nval+2, offset*nline-5, r'time $(s)$', fontsize=14)\n",
    "ax.text(nval+2, offset*nline-7, '---------------')\n",
    "ax.set_xlim(-10,570)\n",
    "ax.set_ylim(-10,100)\n",
    "\n",
    "f.savefig('line2.pdf',format='pdf', bbox_inches = 'tight') \n"
   ]
  },
  {
   "cell_type": "code",
   "execution_count": null,
   "metadata": {},
   "outputs": [],
   "source": []
  }
 ],
 "metadata": {
  "kernelspec": {
   "display_name": "Python 3",
   "language": "python",
   "name": "python3"
  },
  "language_info": {
   "codemirror_mode": {
    "name": "ipython",
    "version": 3
   },
   "file_extension": ".py",
   "mimetype": "text/x-python",
   "name": "python",
   "nbconvert_exporter": "python",
   "pygments_lexer": "ipython3",
   "version": "3.7.7"
  }
 },
 "nbformat": 4,
 "nbformat_minor": 2
}
