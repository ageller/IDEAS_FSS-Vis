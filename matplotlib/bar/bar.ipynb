{
 "cells": [
  {
   "cell_type": "code",
   "execution_count": null,
   "metadata": {},
   "outputs": [],
   "source": [
    "import numpy as np\n",
    "import pandas as pd\n",
    "import matplotlib\n",
    "from matplotlib import pyplot as plt\n",
    "\n",
    "%matplotlib inline"
   ]
  },
  {
   "cell_type": "markdown",
   "metadata": {},
   "source": [
    "## Read in the data\n",
    "\n",
    "*I'm using pandas*"
   ]
  },
  {
   "cell_type": "code",
   "execution_count": null,
   "metadata": {},
   "outputs": [],
   "source": [
    "data = pd.read_csv('bar.csv')\n",
    "data"
   ]
  },
  {
   "cell_type": "markdown",
   "metadata": {},
   "source": [
    "## Here is the default bar chart from python"
   ]
  },
  {
   "cell_type": "code",
   "execution_count": null,
   "metadata": {},
   "outputs": [],
   "source": [
    "f,ax = plt.subplots()\n",
    "\n",
    "ind = np.arange(len(data))  # the x locations for the bars\n",
    "width = 0.5 # the width of the bars\n",
    "rects = ax.bar(ind, data['Value'], width)"
   ]
  },
  {
   "cell_type": "markdown",
   "metadata": {},
   "source": [
    "## Add some labels"
   ]
  },
  {
   "cell_type": "code",
   "execution_count": null,
   "metadata": {},
   "outputs": [],
   "source": [
    "f,ax = plt.subplots()\n",
    "\n",
    "ind = np.arange(len(data))  # the x locations for the bars\n",
    "width = 0.5 # the width of the bars\n",
    "rects = ax.bar(ind, data['Value'], width)\n",
    "\n",
    "# add some text for labels, title and axes ticks\n",
    "ax.set_ylabel('Percent')\n",
    "ax.set_title('Percentage of Poor Usage')\n",
    "ax.set_xticks(ind)\n",
    "ax.set_xticklabels(data['Label'])\n"
   ]
  },
  {
   "cell_type": "markdown",
   "metadata": {},
   "source": [
    "## Rotate the plot and add gridlines"
   ]
  },
  {
   "cell_type": "code",
   "execution_count": null,
   "metadata": {
    "scrolled": false
   },
   "outputs": [],
   "source": [
    "f,ax = plt.subplots()\n",
    "\n",
    "ind = np.arange(len(data))  # the x locations for the bars\n",
    "width = 0.5 # the width of the bars\n",
    "rects = ax.barh(ind, data['Value'], width, zorder=2)\n",
    "\n",
    "# add some text for labels, title and axes ticks\n",
    "ax.set_xlabel('Percent')\n",
    "ax.set_title('Percentage of Poor Usage')\n",
    "ax.set_yticks(ind)\n",
    "ax.set_yticklabels(data['Label'])\n",
    "\n",
    "#add a grid behind the plot\n",
    "ax.grid(color='gray', linestyle='-', linewidth=1, zorder = 1)\n"
   ]
  },
  {
   "cell_type": "markdown",
   "metadata": {},
   "source": [
    "## Sort the data, and add the percentage values to each bar"
   ]
  },
  {
   "cell_type": "code",
   "execution_count": null,
   "metadata": {},
   "outputs": [],
   "source": [
    "f,ax = plt.subplots()\n",
    "\n",
    "#sort the data (nice aspect of pandas dataFrames)\n",
    "data.sort_values('Value', inplace=True)\n",
    "\n",
    "ind = np.arange(len(data))  # the x locations for the bars\n",
    "width = 0.5 # the width of the bars\n",
    "rects = ax.barh(ind, data['Value'], width, zorder=2)\n",
    "\n",
    "# add some text for labels, title and axes ticks\n",
    "ax.set_xlabel('Percent')\n",
    "ax.set_title('Percentage of Poor Usage')\n",
    "ax.set_yticks(ind)\n",
    "ax.set_yticklabels(data['Label'])\n",
    "\n",
    "#add a grid behind the plot\n",
    "ax.grid(color='gray', linestyle='-', linewidth=1, zorder = 1)\n",
    "\n",
    "#I grabbed this from here : https://matplotlib.org/examples/api/barchart_demo.html\n",
    "#and tweaked it slightly \n",
    "for r in rects:\n",
    "    h = r.get_height()\n",
    "    w = r.get_width()\n",
    "    y = r.get_y()\n",
    "    if (w > 1):\n",
    "        x = w - 0.5\n",
    "    else:\n",
    "        x = w + 0.5\n",
    "    ax.text(x, y ,'%.1f%%' % w, ha='center', va='bottom', zorder = 3) \n",
    "        \n"
   ]
  },
  {
   "cell_type": "markdown",
   "metadata": {},
   "source": [
    "## Clean this up a bit\n",
    "* I don't want the grid lines anymore\n",
    "* Make the font larger\n",
    "* Let's change the colors, and highlight one of them\n",
    "* Save the plot"
   ]
  },
  {
   "cell_type": "code",
   "execution_count": null,
   "metadata": {},
   "outputs": [],
   "source": [
    "#this will change the font globally, but you could also change the fontsize for each label independently\n",
    "font = {'size' : 20}\n",
    "matplotlib.rc('font', **font) \n",
    "\n",
    "f,ax = plt.subplots(figsize=(10,8))\n",
    "\n",
    "#sort the data (nice aspect of pandas dataFrames)\n",
    "data.sort_values('Value', inplace=True)\n",
    "\n",
    "ind = np.arange(len(data))  # the x locations for the bars\n",
    "width = 0.5 # the width of the bars\n",
    "rects = ax.barh(ind, data['Value'], width, zorder=2)\n",
    "\n",
    "# add some text for labels, title and axes ticks\n",
    "ax.set_title('Percentage of Poor Usage', fontsize = 30)\n",
    "ax.set_yticks(ind)\n",
    "ax.set_yticklabels(data['Label'])\n",
    "\n",
    "#remove all the axes, ticks and lower x label\n",
    "aoff = ['right', 'left', 'top', 'bottom']\n",
    "for x in aoff:\n",
    "    ax.spines[x].set_visible(False)\n",
    "ax.tick_params(length=0)\n",
    "ax.set_xticklabels([' ']*len(data))\n",
    "\n",
    "\n",
    "#I grabbed this from here : https://matplotlib.org/examples/api/barchart_demo.html\n",
    "#and tweaked it slightly \n",
    "highlight = [4]\n",
    "for i, r in enumerate(rects):\n",
    "    h = r.get_height()\n",
    "    w = r.get_width()\n",
    "    y = r.get_y()\n",
    "    if (w >= 10):\n",
    "        x = w - 0.75\n",
    "    elif (w > 1):\n",
    "        x = w - 0.6\n",
    "    else:\n",
    "        x = w + 0.5\n",
    "    r.set_color('gray')\n",
    "    if (i in highlight):\n",
    "        r.set_color('orange')\n",
    "    ax.text(x, y ,'%.1f%%' % w, ha='center', va='bottom', zorder = 3) \n",
    "\n",
    "    \n",
    "f.savefig('bar.pdf',format='pdf', bbox_inches = 'tight') \n"
   ]
  },
  {
   "cell_type": "code",
   "execution_count": null,
   "metadata": {},
   "outputs": [],
   "source": []
  }
 ],
 "metadata": {
  "kernelspec": {
   "display_name": "Python 3",
   "language": "python",
   "name": "python3"
  },
  "language_info": {
   "codemirror_mode": {
    "name": "ipython",
    "version": 3
   },
   "file_extension": ".py",
   "mimetype": "text/x-python",
   "name": "python",
   "nbconvert_exporter": "python",
   "pygments_lexer": "ipython3",
   "version": "3.7.3"
  }
 },
 "nbformat": 4,
 "nbformat_minor": 2
}
