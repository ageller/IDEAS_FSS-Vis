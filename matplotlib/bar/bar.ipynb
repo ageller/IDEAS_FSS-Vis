{
 "cells": [
  {
   "cell_type": "code",
   "execution_count": null,
   "metadata": {
    "collapsed": true
   },
   "outputs": [],
   "source": [
    "import numpy\n",
    "from astropy.io import ascii\n",
    "import matplotlib\n",
    "from matplotlib import pyplot\n",
    "\n",
    "%matplotlib inline"
   ]
  },
  {
   "cell_type": "markdown",
   "metadata": {},
   "source": [
    "## Read in the data; I'm using astropy\n"
   ]
  },
  {
   "cell_type": "code",
   "execution_count": null,
   "metadata": {
    "collapsed": false
   },
   "outputs": [],
   "source": [
    "data = ascii.read('bar.csv', format='csv')\n",
    "data"
   ]
  },
  {
   "cell_type": "markdown",
   "metadata": {},
   "source": [
    "## Here is the default bar chart from python"
   ]
  },
  {
   "cell_type": "code",
   "execution_count": null,
   "metadata": {
    "collapsed": false
   },
   "outputs": [],
   "source": [
    "ind = numpy.arange(len(data))  # the x locations for the bars\n",
    "width = 0.5 # the width of the bars\n",
    "rects = pyplot.bar(ind, data['Value'], width)"
   ]
  },
  {
   "cell_type": "markdown",
   "metadata": {},
   "source": [
    "## Add some labels"
   ]
  },
  {
   "cell_type": "code",
   "execution_count": null,
   "metadata": {
    "collapsed": false
   },
   "outputs": [],
   "source": [
    "ind = numpy.arange(len(data))  # the x locations for the bars\n",
    "width = 0.5 # the width of the bars\n",
    "rects = pyplot.bar(ind, data['Value'], width)\n",
    "\n",
    "# add some text for labels, title and axes ticks\n",
    "pyplot.ylabel('Percent')\n",
    "pyplot.title('Percentage of Poor Usage')\n",
    "pyplot.xticks(ind)\n",
    "pyplot.axes().set_xticklabels(data['Label'])\n"
   ]
  },
  {
   "cell_type": "markdown",
   "metadata": {},
   "source": [
    "## Rotate the plot and add gridlines"
   ]
  },
  {
   "cell_type": "code",
   "execution_count": null,
   "metadata": {
    "collapsed": false
   },
   "outputs": [],
   "source": [
    "ind = numpy.arange(len(data))  # the x locations for the bars\n",
    "width = 0.5 # the width of the bars\n",
    "rects = pyplot.axes().barh(ind, data['Value'], width, zorder=2)\n",
    "\n",
    "# add some text for labels, title and axes ticks\n",
    "pyplot.xlabel('Percent')\n",
    "pyplot.title('Percentage of Poor Usage')\n",
    "pyplot.yticks(ind)\n",
    "pyplot.axes().set_yticklabels(data['Label'])\n",
    "\n",
    "#add a grid behind the plot\n",
    "pyplot.axes().grid(color='gray', linestyle='-', linewidth=1, zorder = 1)\n"
   ]
  },
  {
   "cell_type": "markdown",
   "metadata": {},
   "source": [
    "## Sort the data, and add the percentage values to each bar"
   ]
  },
  {
   "cell_type": "code",
   "execution_count": null,
   "metadata": {
    "collapsed": false
   },
   "outputs": [],
   "source": [
    "#sort the data (nice aspect of astropy Tables)\n",
    "data.sort('Value')\n",
    "\n",
    "ind = numpy.arange(len(data))  # the x locations for the bars\n",
    "width = 0.5 # the width of the bars\n",
    "rects = pyplot.axes().barh(ind, data['Value'], width, zorder=2)\n",
    "\n",
    "# add some text for labels, title and axes ticks\n",
    "pyplot.xlabel('Percent')\n",
    "pyplot.title('Percentage of Poor Usage')\n",
    "pyplot.yticks(ind)\n",
    "pyplot.axes().set_yticklabels(data['Label'])\n",
    "\n",
    "#add a grid behind the plot\n",
    "pyplot.axes().grid(color='gray', linestyle='-', linewidth=1, zorder = 1)\n",
    "\n",
    "#I grabbed this from here : https://matplotlib.org/examples/api/barchart_demo.html\n",
    "#and tweaked it slightly \n",
    "for r in rects:\n",
    "    h = r.get_height()\n",
    "    w = r.get_width()\n",
    "    y = r.get_y()\n",
    "    if (w > 1):\n",
    "        x = w - 0.5\n",
    "    else:\n",
    "        x = w + 0.5\n",
    "    pyplot.axes().text(x, y ,'%.1f%%' % w, ha='center', va='bottom', zorder = 3) \n",
    "        \n"
   ]
  },
  {
   "cell_type": "markdown",
   "metadata": {},
   "source": [
    "## Clean this up a bit\n",
    "* I don't want the grid lines anymore\n",
    "* Make the font larger\n",
    "* Let's change the colors, and highlight one of them\n",
    "* Save the plot"
   ]
  },
  {
   "cell_type": "code",
   "execution_count": null,
   "metadata": {
    "collapsed": false
   },
   "outputs": [],
   "source": [
    "font = {'size' : 20}\n",
    "matplotlib.rc('font', **font)\n",
    "f = pyplot.figure(figsize=(10,8))\n",
    "\n",
    "#sort the data (nice aspect of astropy Tables)\n",
    "data.sort('Value')\n",
    "\n",
    "ind = numpy.arange(len(data))  # the x locations for the bars\n",
    "width = 0.5 # the width of the bars\n",
    "rects = pyplot.axes().barh(ind, data['Value'], width, zorder=2)\n",
    "\n",
    "# add some text for labels, title and axes ticks\n",
    "#pyplot.xlabel('Percent')\n",
    "pyplot.title('Percentage of Poor Usage', fontsize = 30)\n",
    "pyplot.yticks(ind)\n",
    "pyplot.axes().set_yticklabels(data['Label'])\n",
    "\n",
    "#remove all the axes, ticks and lower x label\n",
    "aoff = ['right', 'left', 'top', 'bottom']\n",
    "for x in aoff:\n",
    "    pyplot.axes().spines[x].set_visible(False)\n",
    "pyplot.axes().tick_params(length=0)\n",
    "pyplot.axes().set_xticklabels([' ']*len(data))\n",
    "\n",
    "\n",
    "#I grabbed this from here : https://matplotlib.org/examples/api/barchart_demo.html\n",
    "#and tweaked it slightly \n",
    "highlight = [4]\n",
    "for i, r in enumerate(rects):\n",
    "    h = r.get_height()\n",
    "    w = r.get_width()\n",
    "    y = r.get_y()\n",
    "    if (w >= 10):\n",
    "        x = w - 0.75\n",
    "    elif (w > 1):\n",
    "        x = w - 0.6\n",
    "    else:\n",
    "        x = w + 0.5\n",
    "    r.set_color('gray')\n",
    "    if (i in highlight):\n",
    "        r.set_color('orange')\n",
    "    pyplot.axes().text(x, y ,'%.1f%%' % w, ha='center', va='bottom', zorder = 3) \n",
    "\n",
    "    \n",
    "f.savefig('bar.pdf',format='pdf', bbox_inches = 'tight') \n"
   ]
  },
  {
   "cell_type": "code",
   "execution_count": null,
   "metadata": {
    "collapsed": true
   },
   "outputs": [],
   "source": []
  }
 ],
 "metadata": {
  "kernelspec": {
   "display_name": "Python 2",
   "language": "python",
   "name": "python2"
  },
  "language_info": {
   "codemirror_mode": {
    "name": "ipython",
    "version": 2
   },
   "file_extension": ".py",
   "mimetype": "text/x-python",
   "name": "python",
   "nbconvert_exporter": "python",
   "pygments_lexer": "ipython2",
   "version": "2.7.13"
  }
 },
 "nbformat": 4,
 "nbformat_minor": 2
}
