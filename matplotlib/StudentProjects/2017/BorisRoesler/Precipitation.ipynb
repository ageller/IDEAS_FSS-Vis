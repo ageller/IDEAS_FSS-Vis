{
 "cells": [
  {
   "cell_type": "markdown",
   "metadata": {},
   "source": [
    "# Precipitation"
   ]
  },
  {
   "cell_type": "code",
   "execution_count": 1,
   "metadata": {},
   "outputs": [
    {
     "data": {
      "text/html": [
       "<div>\n",
       "<table border=\"1\" class=\"dataframe\">\n",
       "  <thead>\n",
       "    <tr style=\"text-align: right;\">\n",
       "      <th></th>\n",
       "      <th>DATE</th>\n",
       "      <th>DLY-TMIN-NORMAL</th>\n",
       "      <th>DLY-TMAX-NORMAL</th>\n",
       "      <th>PRECIPITATION</th>\n",
       "      <th>TEMP-LOW</th>\n",
       "      <th>TEMP-HIGH</th>\n",
       "    </tr>\n",
       "  </thead>\n",
       "  <tbody>\n",
       "    <tr>\n",
       "      <th>0</th>\n",
       "      <td>20100101</td>\n",
       "      <td>-33</td>\n",
       "      <td>145</td>\n",
       "      <td>2</td>\n",
       "      <td>-3.3</td>\n",
       "      <td>14.5</td>\n",
       "    </tr>\n",
       "    <tr>\n",
       "      <th>1</th>\n",
       "      <td>20100102</td>\n",
       "      <td>-35</td>\n",
       "      <td>144</td>\n",
       "      <td>4</td>\n",
       "      <td>-3.5</td>\n",
       "      <td>14.4</td>\n",
       "    </tr>\n",
       "    <tr>\n",
       "      <th>2</th>\n",
       "      <td>20100103</td>\n",
       "      <td>-36</td>\n",
       "      <td>143</td>\n",
       "      <td>5</td>\n",
       "      <td>-3.6</td>\n",
       "      <td>14.3</td>\n",
       "    </tr>\n",
       "    <tr>\n",
       "      <th>3</th>\n",
       "      <td>20100104</td>\n",
       "      <td>-38</td>\n",
       "      <td>142</td>\n",
       "      <td>7</td>\n",
       "      <td>-3.8</td>\n",
       "      <td>14.2</td>\n",
       "    </tr>\n",
       "    <tr>\n",
       "      <th>4</th>\n",
       "      <td>20100105</td>\n",
       "      <td>-39</td>\n",
       "      <td>141</td>\n",
       "      <td>9</td>\n",
       "      <td>-3.9</td>\n",
       "      <td>14.1</td>\n",
       "    </tr>\n",
       "    <tr>\n",
       "      <th>5</th>\n",
       "      <td>20100106</td>\n",
       "      <td>-41</td>\n",
       "      <td>140</td>\n",
       "      <td>10</td>\n",
       "      <td>-4.1</td>\n",
       "      <td>14.0</td>\n",
       "    </tr>\n",
       "    <tr>\n",
       "      <th>6</th>\n",
       "      <td>20100107</td>\n",
       "      <td>-42</td>\n",
       "      <td>140</td>\n",
       "      <td>12</td>\n",
       "      <td>-4.2</td>\n",
       "      <td>14.0</td>\n",
       "    </tr>\n",
       "    <tr>\n",
       "      <th>7</th>\n",
       "      <td>20100108</td>\n",
       "      <td>-43</td>\n",
       "      <td>139</td>\n",
       "      <td>13</td>\n",
       "      <td>-4.3</td>\n",
       "      <td>13.9</td>\n",
       "    </tr>\n",
       "    <tr>\n",
       "      <th>8</th>\n",
       "      <td>20100109</td>\n",
       "      <td>-44</td>\n",
       "      <td>139</td>\n",
       "      <td>15</td>\n",
       "      <td>-4.4</td>\n",
       "      <td>13.9</td>\n",
       "    </tr>\n",
       "    <tr>\n",
       "      <th>9</th>\n",
       "      <td>20100110</td>\n",
       "      <td>-45</td>\n",
       "      <td>139</td>\n",
       "      <td>17</td>\n",
       "      <td>-4.5</td>\n",
       "      <td>13.9</td>\n",
       "    </tr>\n",
       "    <tr>\n",
       "      <th>10</th>\n",
       "      <td>20100111</td>\n",
       "      <td>-45</td>\n",
       "      <td>138</td>\n",
       "      <td>19</td>\n",
       "      <td>-4.5</td>\n",
       "      <td>13.8</td>\n",
       "    </tr>\n",
       "    <tr>\n",
       "      <th>11</th>\n",
       "      <td>20100112</td>\n",
       "      <td>-46</td>\n",
       "      <td>139</td>\n",
       "      <td>21</td>\n",
       "      <td>-4.6</td>\n",
       "      <td>13.9</td>\n",
       "    </tr>\n",
       "    <tr>\n",
       "      <th>12</th>\n",
       "      <td>20100113</td>\n",
       "      <td>-47</td>\n",
       "      <td>139</td>\n",
       "      <td>23</td>\n",
       "      <td>-4.7</td>\n",
       "      <td>13.9</td>\n",
       "    </tr>\n",
       "    <tr>\n",
       "      <th>13</th>\n",
       "      <td>20100114</td>\n",
       "      <td>-47</td>\n",
       "      <td>139</td>\n",
       "      <td>25</td>\n",
       "      <td>-4.7</td>\n",
       "      <td>13.9</td>\n",
       "    </tr>\n",
       "    <tr>\n",
       "      <th>14</th>\n",
       "      <td>20100115</td>\n",
       "      <td>-47</td>\n",
       "      <td>140</td>\n",
       "      <td>27</td>\n",
       "      <td>-4.7</td>\n",
       "      <td>14.0</td>\n",
       "    </tr>\n",
       "    <tr>\n",
       "      <th>15</th>\n",
       "      <td>20100116</td>\n",
       "      <td>-47</td>\n",
       "      <td>140</td>\n",
       "      <td>30</td>\n",
       "      <td>-4.7</td>\n",
       "      <td>14.0</td>\n",
       "    </tr>\n",
       "    <tr>\n",
       "      <th>16</th>\n",
       "      <td>20100117</td>\n",
       "      <td>-48</td>\n",
       "      <td>141</td>\n",
       "      <td>32</td>\n",
       "      <td>-4.8</td>\n",
       "      <td>14.1</td>\n",
       "    </tr>\n",
       "    <tr>\n",
       "      <th>17</th>\n",
       "      <td>20100118</td>\n",
       "      <td>-48</td>\n",
       "      <td>142</td>\n",
       "      <td>34</td>\n",
       "      <td>-4.8</td>\n",
       "      <td>14.2</td>\n",
       "    </tr>\n",
       "    <tr>\n",
       "      <th>18</th>\n",
       "      <td>20100119</td>\n",
       "      <td>-47</td>\n",
       "      <td>143</td>\n",
       "      <td>35</td>\n",
       "      <td>-4.7</td>\n",
       "      <td>14.3</td>\n",
       "    </tr>\n",
       "    <tr>\n",
       "      <th>19</th>\n",
       "      <td>20100120</td>\n",
       "      <td>-47</td>\n",
       "      <td>144</td>\n",
       "      <td>37</td>\n",
       "      <td>-4.7</td>\n",
       "      <td>14.4</td>\n",
       "    </tr>\n",
       "    <tr>\n",
       "      <th>20</th>\n",
       "      <td>20100121</td>\n",
       "      <td>-47</td>\n",
       "      <td>145</td>\n",
       "      <td>39</td>\n",
       "      <td>-4.7</td>\n",
       "      <td>14.5</td>\n",
       "    </tr>\n",
       "    <tr>\n",
       "      <th>21</th>\n",
       "      <td>20100122</td>\n",
       "      <td>-46</td>\n",
       "      <td>146</td>\n",
       "      <td>41</td>\n",
       "      <td>-4.6</td>\n",
       "      <td>14.6</td>\n",
       "    </tr>\n",
       "    <tr>\n",
       "      <th>22</th>\n",
       "      <td>20100123</td>\n",
       "      <td>-46</td>\n",
       "      <td>148</td>\n",
       "      <td>43</td>\n",
       "      <td>-4.6</td>\n",
       "      <td>14.8</td>\n",
       "    </tr>\n",
       "    <tr>\n",
       "      <th>23</th>\n",
       "      <td>20100124</td>\n",
       "      <td>-45</td>\n",
       "      <td>149</td>\n",
       "      <td>44</td>\n",
       "      <td>-4.5</td>\n",
       "      <td>14.9</td>\n",
       "    </tr>\n",
       "    <tr>\n",
       "      <th>24</th>\n",
       "      <td>20100125</td>\n",
       "      <td>-44</td>\n",
       "      <td>151</td>\n",
       "      <td>46</td>\n",
       "      <td>-4.4</td>\n",
       "      <td>15.1</td>\n",
       "    </tr>\n",
       "    <tr>\n",
       "      <th>25</th>\n",
       "      <td>20100126</td>\n",
       "      <td>-43</td>\n",
       "      <td>152</td>\n",
       "      <td>47</td>\n",
       "      <td>-4.3</td>\n",
       "      <td>15.2</td>\n",
       "    </tr>\n",
       "    <tr>\n",
       "      <th>26</th>\n",
       "      <td>20100127</td>\n",
       "      <td>-42</td>\n",
       "      <td>154</td>\n",
       "      <td>49</td>\n",
       "      <td>-4.2</td>\n",
       "      <td>15.4</td>\n",
       "    </tr>\n",
       "    <tr>\n",
       "      <th>27</th>\n",
       "      <td>20100128</td>\n",
       "      <td>-41</td>\n",
       "      <td>156</td>\n",
       "      <td>50</td>\n",
       "      <td>-4.1</td>\n",
       "      <td>15.6</td>\n",
       "    </tr>\n",
       "    <tr>\n",
       "      <th>28</th>\n",
       "      <td>20100129</td>\n",
       "      <td>-40</td>\n",
       "      <td>158</td>\n",
       "      <td>52</td>\n",
       "      <td>-4.0</td>\n",
       "      <td>15.8</td>\n",
       "    </tr>\n",
       "    <tr>\n",
       "      <th>29</th>\n",
       "      <td>20100130</td>\n",
       "      <td>-38</td>\n",
       "      <td>160</td>\n",
       "      <td>54</td>\n",
       "      <td>-3.8</td>\n",
       "      <td>16.0</td>\n",
       "    </tr>\n",
       "    <tr>\n",
       "      <th>...</th>\n",
       "      <td>...</td>\n",
       "      <td>...</td>\n",
       "      <td>...</td>\n",
       "      <td>...</td>\n",
       "      <td>...</td>\n",
       "      <td>...</td>\n",
       "    </tr>\n",
       "    <tr>\n",
       "      <th>335</th>\n",
       "      <td>20101202</td>\n",
       "      <td>73</td>\n",
       "      <td>239</td>\n",
       "      <td>5</td>\n",
       "      <td>7.3</td>\n",
       "      <td>23.9</td>\n",
       "    </tr>\n",
       "    <tr>\n",
       "      <th>336</th>\n",
       "      <td>20101203</td>\n",
       "      <td>68</td>\n",
       "      <td>234</td>\n",
       "      <td>8</td>\n",
       "      <td>6.8</td>\n",
       "      <td>23.4</td>\n",
       "    </tr>\n",
       "    <tr>\n",
       "      <th>337</th>\n",
       "      <td>20101204</td>\n",
       "      <td>63</td>\n",
       "      <td>230</td>\n",
       "      <td>11</td>\n",
       "      <td>6.3</td>\n",
       "      <td>23.0</td>\n",
       "    </tr>\n",
       "    <tr>\n",
       "      <th>338</th>\n",
       "      <td>20101205</td>\n",
       "      <td>58</td>\n",
       "      <td>225</td>\n",
       "      <td>13</td>\n",
       "      <td>5.8</td>\n",
       "      <td>22.5</td>\n",
       "    </tr>\n",
       "    <tr>\n",
       "      <th>339</th>\n",
       "      <td>20101206</td>\n",
       "      <td>53</td>\n",
       "      <td>221</td>\n",
       "      <td>16</td>\n",
       "      <td>5.3</td>\n",
       "      <td>22.1</td>\n",
       "    </tr>\n",
       "    <tr>\n",
       "      <th>340</th>\n",
       "      <td>20101207</td>\n",
       "      <td>48</td>\n",
       "      <td>216</td>\n",
       "      <td>19</td>\n",
       "      <td>4.8</td>\n",
       "      <td>21.6</td>\n",
       "    </tr>\n",
       "    <tr>\n",
       "      <th>341</th>\n",
       "      <td>20101208</td>\n",
       "      <td>44</td>\n",
       "      <td>212</td>\n",
       "      <td>22</td>\n",
       "      <td>4.4</td>\n",
       "      <td>21.2</td>\n",
       "    </tr>\n",
       "    <tr>\n",
       "      <th>342</th>\n",
       "      <td>20101209</td>\n",
       "      <td>39</td>\n",
       "      <td>208</td>\n",
       "      <td>24</td>\n",
       "      <td>3.9</td>\n",
       "      <td>20.8</td>\n",
       "    </tr>\n",
       "    <tr>\n",
       "      <th>343</th>\n",
       "      <td>20101210</td>\n",
       "      <td>34</td>\n",
       "      <td>204</td>\n",
       "      <td>27</td>\n",
       "      <td>3.4</td>\n",
       "      <td>20.4</td>\n",
       "    </tr>\n",
       "    <tr>\n",
       "      <th>344</th>\n",
       "      <td>20101211</td>\n",
       "      <td>30</td>\n",
       "      <td>200</td>\n",
       "      <td>30</td>\n",
       "      <td>3.0</td>\n",
       "      <td>20.0</td>\n",
       "    </tr>\n",
       "    <tr>\n",
       "      <th>345</th>\n",
       "      <td>20101212</td>\n",
       "      <td>26</td>\n",
       "      <td>196</td>\n",
       "      <td>32</td>\n",
       "      <td>2.6</td>\n",
       "      <td>19.6</td>\n",
       "    </tr>\n",
       "    <tr>\n",
       "      <th>346</th>\n",
       "      <td>20101213</td>\n",
       "      <td>22</td>\n",
       "      <td>193</td>\n",
       "      <td>35</td>\n",
       "      <td>2.2</td>\n",
       "      <td>19.3</td>\n",
       "    </tr>\n",
       "    <tr>\n",
       "      <th>347</th>\n",
       "      <td>20101214</td>\n",
       "      <td>18</td>\n",
       "      <td>189</td>\n",
       "      <td>37</td>\n",
       "      <td>1.8</td>\n",
       "      <td>18.9</td>\n",
       "    </tr>\n",
       "    <tr>\n",
       "      <th>348</th>\n",
       "      <td>20101215</td>\n",
       "      <td>14</td>\n",
       "      <td>186</td>\n",
       "      <td>39</td>\n",
       "      <td>1.4</td>\n",
       "      <td>18.6</td>\n",
       "    </tr>\n",
       "    <tr>\n",
       "      <th>349</th>\n",
       "      <td>20101216</td>\n",
       "      <td>10</td>\n",
       "      <td>182</td>\n",
       "      <td>41</td>\n",
       "      <td>1.0</td>\n",
       "      <td>18.2</td>\n",
       "    </tr>\n",
       "    <tr>\n",
       "      <th>350</th>\n",
       "      <td>20101217</td>\n",
       "      <td>7</td>\n",
       "      <td>179</td>\n",
       "      <td>44</td>\n",
       "      <td>0.7</td>\n",
       "      <td>17.9</td>\n",
       "    </tr>\n",
       "    <tr>\n",
       "      <th>351</th>\n",
       "      <td>20101218</td>\n",
       "      <td>3</td>\n",
       "      <td>176</td>\n",
       "      <td>46</td>\n",
       "      <td>0.3</td>\n",
       "      <td>17.6</td>\n",
       "    </tr>\n",
       "    <tr>\n",
       "      <th>352</th>\n",
       "      <td>20101219</td>\n",
       "      <td>0</td>\n",
       "      <td>173</td>\n",
       "      <td>48</td>\n",
       "      <td>0.0</td>\n",
       "      <td>17.3</td>\n",
       "    </tr>\n",
       "    <tr>\n",
       "      <th>353</th>\n",
       "      <td>20101220</td>\n",
       "      <td>-4</td>\n",
       "      <td>170</td>\n",
       "      <td>50</td>\n",
       "      <td>-0.4</td>\n",
       "      <td>17.0</td>\n",
       "    </tr>\n",
       "    <tr>\n",
       "      <th>354</th>\n",
       "      <td>20101221</td>\n",
       "      <td>-7</td>\n",
       "      <td>168</td>\n",
       "      <td>52</td>\n",
       "      <td>-0.7</td>\n",
       "      <td>16.8</td>\n",
       "    </tr>\n",
       "    <tr>\n",
       "      <th>355</th>\n",
       "      <td>20101222</td>\n",
       "      <td>-10</td>\n",
       "      <td>165</td>\n",
       "      <td>53</td>\n",
       "      <td>-1.0</td>\n",
       "      <td>16.5</td>\n",
       "    </tr>\n",
       "    <tr>\n",
       "      <th>356</th>\n",
       "      <td>20101223</td>\n",
       "      <td>-13</td>\n",
       "      <td>162</td>\n",
       "      <td>55</td>\n",
       "      <td>-1.3</td>\n",
       "      <td>16.2</td>\n",
       "    </tr>\n",
       "    <tr>\n",
       "      <th>357</th>\n",
       "      <td>20101224</td>\n",
       "      <td>-15</td>\n",
       "      <td>160</td>\n",
       "      <td>58</td>\n",
       "      <td>-1.5</td>\n",
       "      <td>16.0</td>\n",
       "    </tr>\n",
       "    <tr>\n",
       "      <th>358</th>\n",
       "      <td>20101225</td>\n",
       "      <td>-18</td>\n",
       "      <td>158</td>\n",
       "      <td>60</td>\n",
       "      <td>-1.8</td>\n",
       "      <td>15.8</td>\n",
       "    </tr>\n",
       "    <tr>\n",
       "      <th>359</th>\n",
       "      <td>20101226</td>\n",
       "      <td>-21</td>\n",
       "      <td>156</td>\n",
       "      <td>62</td>\n",
       "      <td>-2.1</td>\n",
       "      <td>15.6</td>\n",
       "    </tr>\n",
       "    <tr>\n",
       "      <th>360</th>\n",
       "      <td>20101227</td>\n",
       "      <td>-23</td>\n",
       "      <td>154</td>\n",
       "      <td>64</td>\n",
       "      <td>-2.3</td>\n",
       "      <td>15.4</td>\n",
       "    </tr>\n",
       "    <tr>\n",
       "      <th>361</th>\n",
       "      <td>20101228</td>\n",
       "      <td>-25</td>\n",
       "      <td>152</td>\n",
       "      <td>67</td>\n",
       "      <td>-2.5</td>\n",
       "      <td>15.2</td>\n",
       "    </tr>\n",
       "    <tr>\n",
       "      <th>362</th>\n",
       "      <td>20101229</td>\n",
       "      <td>-27</td>\n",
       "      <td>150</td>\n",
       "      <td>69</td>\n",
       "      <td>-2.7</td>\n",
       "      <td>15.0</td>\n",
       "    </tr>\n",
       "    <tr>\n",
       "      <th>363</th>\n",
       "      <td>20101230</td>\n",
       "      <td>-29</td>\n",
       "      <td>148</td>\n",
       "      <td>71</td>\n",
       "      <td>-2.9</td>\n",
       "      <td>14.8</td>\n",
       "    </tr>\n",
       "    <tr>\n",
       "      <th>364</th>\n",
       "      <td>20101231</td>\n",
       "      <td>-31</td>\n",
       "      <td>147</td>\n",
       "      <td>73</td>\n",
       "      <td>-3.1</td>\n",
       "      <td>14.7</td>\n",
       "    </tr>\n",
       "  </tbody>\n",
       "</table>\n",
       "<p>365 rows × 6 columns</p>\n",
       "</div>"
      ],
      "text/plain": [
       "         DATE  DLY-TMIN-NORMAL  DLY-TMAX-NORMAL  PRECIPITATION  TEMP-LOW  \\\n",
       "0    20100101              -33              145              2      -3.3   \n",
       "1    20100102              -35              144              4      -3.5   \n",
       "2    20100103              -36              143              5      -3.6   \n",
       "3    20100104              -38              142              7      -3.8   \n",
       "4    20100105              -39              141              9      -3.9   \n",
       "5    20100106              -41              140             10      -4.1   \n",
       "6    20100107              -42              140             12      -4.2   \n",
       "7    20100108              -43              139             13      -4.3   \n",
       "8    20100109              -44              139             15      -4.4   \n",
       "9    20100110              -45              139             17      -4.5   \n",
       "10   20100111              -45              138             19      -4.5   \n",
       "11   20100112              -46              139             21      -4.6   \n",
       "12   20100113              -47              139             23      -4.7   \n",
       "13   20100114              -47              139             25      -4.7   \n",
       "14   20100115              -47              140             27      -4.7   \n",
       "15   20100116              -47              140             30      -4.7   \n",
       "16   20100117              -48              141             32      -4.8   \n",
       "17   20100118              -48              142             34      -4.8   \n",
       "18   20100119              -47              143             35      -4.7   \n",
       "19   20100120              -47              144             37      -4.7   \n",
       "20   20100121              -47              145             39      -4.7   \n",
       "21   20100122              -46              146             41      -4.6   \n",
       "22   20100123              -46              148             43      -4.6   \n",
       "23   20100124              -45              149             44      -4.5   \n",
       "24   20100125              -44              151             46      -4.4   \n",
       "25   20100126              -43              152             47      -4.3   \n",
       "26   20100127              -42              154             49      -4.2   \n",
       "27   20100128              -41              156             50      -4.1   \n",
       "28   20100129              -40              158             52      -4.0   \n",
       "29   20100130              -38              160             54      -3.8   \n",
       "..        ...              ...              ...            ...       ...   \n",
       "335  20101202               73              239              5       7.3   \n",
       "336  20101203               68              234              8       6.8   \n",
       "337  20101204               63              230             11       6.3   \n",
       "338  20101205               58              225             13       5.8   \n",
       "339  20101206               53              221             16       5.3   \n",
       "340  20101207               48              216             19       4.8   \n",
       "341  20101208               44              212             22       4.4   \n",
       "342  20101209               39              208             24       3.9   \n",
       "343  20101210               34              204             27       3.4   \n",
       "344  20101211               30              200             30       3.0   \n",
       "345  20101212               26              196             32       2.6   \n",
       "346  20101213               22              193             35       2.2   \n",
       "347  20101214               18              189             37       1.8   \n",
       "348  20101215               14              186             39       1.4   \n",
       "349  20101216               10              182             41       1.0   \n",
       "350  20101217                7              179             44       0.7   \n",
       "351  20101218                3              176             46       0.3   \n",
       "352  20101219                0              173             48       0.0   \n",
       "353  20101220               -4              170             50      -0.4   \n",
       "354  20101221               -7              168             52      -0.7   \n",
       "355  20101222              -10              165             53      -1.0   \n",
       "356  20101223              -13              162             55      -1.3   \n",
       "357  20101224              -15              160             58      -1.5   \n",
       "358  20101225              -18              158             60      -1.8   \n",
       "359  20101226              -21              156             62      -2.1   \n",
       "360  20101227              -23              154             64      -2.3   \n",
       "361  20101228              -25              152             67      -2.5   \n",
       "362  20101229              -27              150             69      -2.7   \n",
       "363  20101230              -29              148             71      -2.9   \n",
       "364  20101231              -31              147             73      -3.1   \n",
       "\n",
       "     TEMP-HIGH  \n",
       "0         14.5  \n",
       "1         14.4  \n",
       "2         14.3  \n",
       "3         14.2  \n",
       "4         14.1  \n",
       "5         14.0  \n",
       "6         14.0  \n",
       "7         13.9  \n",
       "8         13.9  \n",
       "9         13.9  \n",
       "10        13.8  \n",
       "11        13.9  \n",
       "12        13.9  \n",
       "13        13.9  \n",
       "14        14.0  \n",
       "15        14.0  \n",
       "16        14.1  \n",
       "17        14.2  \n",
       "18        14.3  \n",
       "19        14.4  \n",
       "20        14.5  \n",
       "21        14.6  \n",
       "22        14.8  \n",
       "23        14.9  \n",
       "24        15.1  \n",
       "25        15.2  \n",
       "26        15.4  \n",
       "27        15.6  \n",
       "28        15.8  \n",
       "29        16.0  \n",
       "..         ...  \n",
       "335       23.9  \n",
       "336       23.4  \n",
       "337       23.0  \n",
       "338       22.5  \n",
       "339       22.1  \n",
       "340       21.6  \n",
       "341       21.2  \n",
       "342       20.8  \n",
       "343       20.4  \n",
       "344       20.0  \n",
       "345       19.6  \n",
       "346       19.3  \n",
       "347       18.9  \n",
       "348       18.6  \n",
       "349       18.2  \n",
       "350       17.9  \n",
       "351       17.6  \n",
       "352       17.3  \n",
       "353       17.0  \n",
       "354       16.8  \n",
       "355       16.5  \n",
       "356       16.2  \n",
       "357       16.0  \n",
       "358       15.8  \n",
       "359       15.6  \n",
       "360       15.4  \n",
       "361       15.2  \n",
       "362       15.0  \n",
       "363       14.8  \n",
       "364       14.7  \n",
       "\n",
       "[365 rows x 6 columns]"
      ]
     },
     "execution_count": 1,
     "metadata": {},
     "output_type": "execute_result"
    }
   ],
   "source": [
    "import pandas as pd\n",
    "data  = pd.read_csv('Petersburg Station Weather Data.csv', delimiter=',')\n",
    "data"
   ]
  },
  {
   "cell_type": "code",
   "execution_count": 2,
   "metadata": {},
   "outputs": [
    {
     "name": "stderr",
     "output_type": "stream",
     "text": [
      "/Users/Boris/anaconda/lib/python2.7/site-packages/matplotlib/font_manager.py:273: UserWarning: Matplotlib is building the font cache using fc-list. This may take a moment.\n",
      "  warnings.warn('Matplotlib is building the font cache using fc-list. This may take a moment.')\n"
     ]
    }
   ],
   "source": [
    "import matplotlib.pyplot as plt"
   ]
  },
  {
   "cell_type": "code",
   "execution_count": 3,
   "metadata": {},
   "outputs": [
    {
     "data": {
      "text/plain": [
       "365"
      ]
     },
     "execution_count": 3,
     "metadata": {},
     "output_type": "execute_result"
    }
   ],
   "source": [
    "len(data)"
   ]
  },
  {
   "cell_type": "code",
   "execution_count": 21,
   "metadata": {
    "collapsed": true
   },
   "outputs": [],
   "source": [
    "precipitation = data['PRECIPITATION']"
   ]
  },
  {
   "cell_type": "code",
   "execution_count": 22,
   "metadata": {
    "collapsed": true
   },
   "outputs": [],
   "source": [
    "import numpy as np"
   ]
  },
  {
   "cell_type": "code",
   "execution_count": 23,
   "metadata": {
    "collapsed": true
   },
   "outputs": [],
   "source": [
    "days=np.arange(365)"
   ]
  },
  {
   "cell_type": "code",
   "execution_count": 24,
   "metadata": {},
   "outputs": [
    {
     "data": {
      "text/plain": [
       "array([  0,   1,   2,   3,   4,   5,   6,   7,   8,   9,  10,  11,  12,\n",
       "        13,  14,  15,  16,  17,  18,  19,  20,  21,  22,  23,  24,  25,\n",
       "        26,  27,  28,  29,  30,  31,  32,  33,  34,  35,  36,  37,  38,\n",
       "        39,  40,  41,  42,  43,  44,  45,  46,  47,  48,  49,  50,  51,\n",
       "        52,  53,  54,  55,  56,  57,  58,  59,  60,  61,  62,  63,  64,\n",
       "        65,  66,  67,  68,  69,  70,  71,  72,  73,  74,  75,  76,  77,\n",
       "        78,  79,  80,  81,  82,  83,  84,  85,  86,  87,  88,  89,  90,\n",
       "        91,  92,  93,  94,  95,  96,  97,  98,  99, 100, 101, 102, 103,\n",
       "       104, 105, 106, 107, 108, 109, 110, 111, 112, 113, 114, 115, 116,\n",
       "       117, 118, 119, 120, 121, 122, 123, 124, 125, 126, 127, 128, 129,\n",
       "       130, 131, 132, 133, 134, 135, 136, 137, 138, 139, 140, 141, 142,\n",
       "       143, 144, 145, 146, 147, 148, 149, 150, 151, 152, 153, 154, 155,\n",
       "       156, 157, 158, 159, 160, 161, 162, 163, 164, 165, 166, 167, 168,\n",
       "       169, 170, 171, 172, 173, 174, 175, 176, 177, 178, 179, 180, 181,\n",
       "       182, 183, 184, 185, 186, 187, 188, 189, 190, 191, 192, 193, 194,\n",
       "       195, 196, 197, 198, 199, 200, 201, 202, 203, 204, 205, 206, 207,\n",
       "       208, 209, 210, 211, 212, 213, 214, 215, 216, 217, 218, 219, 220,\n",
       "       221, 222, 223, 224, 225, 226, 227, 228, 229, 230, 231, 232, 233,\n",
       "       234, 235, 236, 237, 238, 239, 240, 241, 242, 243, 244, 245, 246,\n",
       "       247, 248, 249, 250, 251, 252, 253, 254, 255, 256, 257, 258, 259,\n",
       "       260, 261, 262, 263, 264, 265, 266, 267, 268, 269, 270, 271, 272,\n",
       "       273, 274, 275, 276, 277, 278, 279, 280, 281, 282, 283, 284, 285,\n",
       "       286, 287, 288, 289, 290, 291, 292, 293, 294, 295, 296, 297, 298,\n",
       "       299, 300, 301, 302, 303, 304, 305, 306, 307, 308, 309, 310, 311,\n",
       "       312, 313, 314, 315, 316, 317, 318, 319, 320, 321, 322, 323, 324,\n",
       "       325, 326, 327, 328, 329, 330, 331, 332, 333, 334, 335, 336, 337,\n",
       "       338, 339, 340, 341, 342, 343, 344, 345, 346, 347, 348, 349, 350,\n",
       "       351, 352, 353, 354, 355, 356, 357, 358, 359, 360, 361, 362, 363, 364])"
      ]
     },
     "execution_count": 24,
     "metadata": {},
     "output_type": "execute_result"
    }
   ],
   "source": [
    "days"
   ]
  },
  {
   "cell_type": "code",
   "execution_count": 25,
   "metadata": {},
   "outputs": [
    {
     "data": {
      "image/png": "[encoded data removed]",
      "text/plain": [
       "<matplotlib.figure.Figure at 0x11582b750>"
      ]
     },
     "metadata": {},
     "output_type": "display_data"
    }
   ],
   "source": [
    "fig, ax1 = plt.subplots(1, 1)\n",
    "ax1.plot(days, precipitation, 'b-', label='Petersburg')\n",
    "\n",
    "ax1.set_title('Precipitation')\n",
    "ax1.set_xlabel('Time [days]')\n",
    "ax1.set_ylabel('Precipitation [mm]')\n",
    "ax1.set_xlim([0, 365])\n",
    "ax1.set_ylim([0, 400])\n",
    "\n",
    "ax1.legend(numpoints=1, loc=2)\n",
    "\n",
    "plt.tight_layout()\n",
    "plt.show()"
   ]
  },
  {
   "cell_type": "code",
   "execution_count": 26,
   "metadata": {
    "collapsed": true
   },
   "outputs": [],
   "source": [
    "accumulated_precipitation = data['PRECIPITATION']"
   ]
  },
  {
   "cell_type": "code",
   "execution_count": 27,
   "metadata": {
    "collapsed": true
   },
   "outputs": [],
   "source": [
    "accumulated_precipitation = np.array(accumulated_precipitation)"
   ]
  },
  {
   "cell_type": "code",
   "execution_count": 28,
   "metadata": {
    "collapsed": true
   },
   "outputs": [],
   "source": [
    "drops = []\n",
    "drop_index = []\n",
    "for i in range(len(accumulated_precipitation)-1):\n",
    "    if accumulated_precipitation[i+1] < accumulated_precipitation[i]:\n",
    "        drops.append(accumulated_precipitation[i])\n",
    "        drop_index.append(i)"
   ]
  },
  {
   "cell_type": "code",
   "execution_count": 29,
   "metadata": {},
   "outputs": [
    {
     "data": {
      "text/plain": [
       "[55, 44, 72, 98, 249, 376, 322, 275, 208, 169, 81]"
      ]
     },
     "execution_count": 29,
     "metadata": {},
     "output_type": "execute_result"
    }
   ],
   "source": [
    "drops"
   ]
  },
  {
   "cell_type": "code",
   "execution_count": 30,
   "metadata": {},
   "outputs": [
    {
     "data": {
      "text/plain": [
       "[30, 58, 89, 119, 150, 180, 211, 242, 272, 303, 333]"
      ]
     },
     "execution_count": 30,
     "metadata": {},
     "output_type": "execute_result"
    }
   ],
   "source": [
    "drop_index"
   ]
  },
  {
   "cell_type": "code",
   "execution_count": 31,
   "metadata": {
    "collapsed": true
   },
   "outputs": [],
   "source": [
    "for j in range(len(drops)):\n",
    "    for i in range(drop_index[j]+1,len(accumulated_precipitation)):\n",
    "        accumulated_precipitation[i] = accumulated_precipitation[i]+drops[j]"
   ]
  },
  {
   "cell_type": "code",
   "execution_count": 32,
   "metadata": {},
   "outputs": [
    {
     "data": {
      "image/png": "[encoded data removed]",
      "text/plain": [
       "<matplotlib.figure.Figure at 0x11687e910>"
      ]
     },
     "metadata": {},
     "output_type": "display_data"
    }
   ],
   "source": [
    "fig, ax1 = plt.subplots(1, 1)\n",
    "ax1.plot(days, accumulated_precipitation, 'b-', label='Petersburg')\n",
    "\n",
    "ax1.set_title('Precipitation')\n",
    "ax1.set_xlabel('Time [days]')\n",
    "ax1.set_ylabel('Precipitation [mm]')\n",
    "ax1.set_xlim([0, 365])\n",
    "\n",
    "ax1.legend(numpoints=1, loc=2)\n",
    "\n",
    "plt.tight_layout()\n",
    "plt.show()"
   ]
  },
  {
   "cell_type": "code",
   "execution_count": 33,
   "metadata": {
    "collapsed": true
   },
   "outputs": [],
   "source": [
    "precipitation = [[] for i in range(len(accumulated_precipitation))]\n",
    "for i in range(len(accumulated_precipitation)-1,-1,-1):\n",
    "    precipitation[i] = accumulated_precipitation[i] - accumulated_precipitation[i-1]"
   ]
  },
  {
   "cell_type": "code",
   "execution_count": 34,
   "metadata": {
    "collapsed": true
   },
   "outputs": [],
   "source": [
    "precipitation[0] = 2"
   ]
  },
  {
   "cell_type": "code",
   "execution_count": 38,
   "metadata": {},
   "outputs": [
    {
     "data": {
      "image/png": "[encoded data removed]",
      "text/plain": [
       "<matplotlib.figure.Figure at 0x116857a10>"
      ]
     },
     "metadata": {},
     "output_type": "display_data"
    }
   ],
   "source": [
    "fig, ax1 = plt.subplots(1, 1)\n",
    "ax1.plot(days, precipitation, 'b-', label='Petersburg')\n",
    "\n",
    "ax1.set_title('Precipitation')\n",
    "ax1.set_xlabel('Time [days]')\n",
    "ax1.set_ylabel('Precipitation [mm]')\n",
    "ax1.set_xlim([0, 365])\n",
    "ax1.set_ylim([0, 15])\n",
    "\n",
    "ax1.legend(numpoints=1, loc=2)\n",
    "\n",
    "plt.tight_layout()\n",
    "plt.show()"
   ]
  },
  {
   "cell_type": "code",
   "execution_count": 100,
   "metadata": {
    "collapsed": true
   },
   "outputs": [],
   "source": [
    "bins = np.linspace(0, 15, 7)\n",
    "distribution, bins = np.histogram(precipitation, bins)"
   ]
  },
  {
   "cell_type": "code",
   "execution_count": 101,
   "metadata": {},
   "outputs": [
    {
     "data": {
      "text/plain": [
       "array([  0. ,   2.5,   5. ,   7.5,  10. ,  12.5,  15. ])"
      ]
     },
     "execution_count": 101,
     "metadata": {},
     "output_type": "execute_result"
    }
   ],
   "source": [
    "bins"
   ]
  },
  {
   "cell_type": "code",
   "execution_count": 102,
   "metadata": {},
   "outputs": [
    {
     "data": {
      "text/plain": [
       "array([114,  70,  63,  62,  39,  17])"
      ]
     },
     "execution_count": 102,
     "metadata": {},
     "output_type": "execute_result"
    }
   ],
   "source": [
    "distribution"
   ]
  },
  {
   "cell_type": "code",
   "execution_count": 108,
   "metadata": {},
   "outputs": [],
   "source": [
    "dtype = [('Number of Days','float32')]\n",
    "values = np.array(distribution, dtype=dtype)\n",
    "index = [str(i*2.5)+'-'+str((i+1)*2.5)+'mm' for i in range(0, len(values))]\n",
    "\n",
    "df = pd.DataFrame(values, index=index)"
   ]
  },
  {
   "cell_type": "code",
   "execution_count": 109,
   "metadata": {},
   "outputs": [
    {
     "data": {
      "text/plain": [
       "array([(114.0,), (70.0,), (63.0,), (62.0,), (39.0,), (17.0,)], \n",
       "      dtype=[('Number of Days', '<f4')])"
      ]
     },
     "execution_count": 109,
     "metadata": {},
     "output_type": "execute_result"
    }
   ],
   "source": [
    "values"
   ]
  },
  {
   "cell_type": "code",
   "execution_count": 110,
   "metadata": {},
   "outputs": [
    {
     "data": {
      "text/html": [
       "<div>\n",
       "<table border=\"1\" class=\"dataframe\">\n",
       "  <thead>\n",
       "    <tr style=\"text-align: right;\">\n",
       "      <th></th>\n",
       "      <th>Number of Days</th>\n",
       "    </tr>\n",
       "  </thead>\n",
       "  <tbody>\n",
       "    <tr>\n",
       "      <th>0.0-2.5mm</th>\n",
       "      <td>114.0</td>\n",
       "    </tr>\n",
       "    <tr>\n",
       "      <th>2.5-5.0mm</th>\n",
       "      <td>70.0</td>\n",
       "    </tr>\n",
       "    <tr>\n",
       "      <th>5.0-7.5mm</th>\n",
       "      <td>63.0</td>\n",
       "    </tr>\n",
       "    <tr>\n",
       "      <th>7.5-10.0mm</th>\n",
       "      <td>62.0</td>\n",
       "    </tr>\n",
       "    <tr>\n",
       "      <th>10.0-12.5mm</th>\n",
       "      <td>39.0</td>\n",
       "    </tr>\n",
       "    <tr>\n",
       "      <th>12.5-15.0mm</th>\n",
       "      <td>17.0</td>\n",
       "    </tr>\n",
       "  </tbody>\n",
       "</table>\n",
       "</div>"
      ],
      "text/plain": [
       "             Number of Days\n",
       "0.0-2.5mm             114.0\n",
       "2.5-5.0mm              70.0\n",
       "5.0-7.5mm              63.0\n",
       "7.5-10.0mm             62.0\n",
       "10.0-12.5mm            39.0\n",
       "12.5-15.0mm            17.0"
      ]
     },
     "execution_count": 110,
     "metadata": {},
     "output_type": "execute_result"
    }
   ],
   "source": [
    "df"
   ]
  },
  {
   "cell_type": "code",
   "execution_count": 111,
   "metadata": {
    "collapsed": true
   },
   "outputs": [],
   "source": [
    "df['Precipitation'] = index"
   ]
  },
  {
   "cell_type": "code",
   "execution_count": 112,
   "metadata": {},
   "outputs": [
    {
     "data": {
      "text/html": [
       "<div>\n",
       "<table border=\"1\" class=\"dataframe\">\n",
       "  <thead>\n",
       "    <tr style=\"text-align: right;\">\n",
       "      <th></th>\n",
       "      <th>Number of Days</th>\n",
       "      <th>Precipitation</th>\n",
       "    </tr>\n",
       "  </thead>\n",
       "  <tbody>\n",
       "    <tr>\n",
       "      <th>0.0-2.5mm</th>\n",
       "      <td>114.0</td>\n",
       "      <td>0.0-2.5mm</td>\n",
       "    </tr>\n",
       "    <tr>\n",
       "      <th>2.5-5.0mm</th>\n",
       "      <td>70.0</td>\n",
       "      <td>2.5-5.0mm</td>\n",
       "    </tr>\n",
       "    <tr>\n",
       "      <th>5.0-7.5mm</th>\n",
       "      <td>63.0</td>\n",
       "      <td>5.0-7.5mm</td>\n",
       "    </tr>\n",
       "    <tr>\n",
       "      <th>7.5-10.0mm</th>\n",
       "      <td>62.0</td>\n",
       "      <td>7.5-10.0mm</td>\n",
       "    </tr>\n",
       "    <tr>\n",
       "      <th>10.0-12.5mm</th>\n",
       "      <td>39.0</td>\n",
       "      <td>10.0-12.5mm</td>\n",
       "    </tr>\n",
       "    <tr>\n",
       "      <th>12.5-15.0mm</th>\n",
       "      <td>17.0</td>\n",
       "      <td>12.5-15.0mm</td>\n",
       "    </tr>\n",
       "  </tbody>\n",
       "</table>\n",
       "</div>"
      ],
      "text/plain": [
       "             Number of Days Precipitation\n",
       "0.0-2.5mm             114.0     0.0-2.5mm\n",
       "2.5-5.0mm              70.0     2.5-5.0mm\n",
       "5.0-7.5mm              63.0     5.0-7.5mm\n",
       "7.5-10.0mm             62.0    7.5-10.0mm\n",
       "10.0-12.5mm            39.0   10.0-12.5mm\n",
       "12.5-15.0mm            17.0   12.5-15.0mm"
      ]
     },
     "execution_count": 112,
     "metadata": {},
     "output_type": "execute_result"
    }
   ],
   "source": [
    "df"
   ]
  },
  {
   "cell_type": "code",
   "execution_count": 176,
   "metadata": {},
   "outputs": [
    {
     "data": {
      "image/png": "[encoded data removed]",
      "text/plain": [
       "<matplotlib.figure.Figure at 0x116107ed0>"
      ]
     },
     "metadata": {},
     "output_type": "display_data"
    }
   ],
   "source": [
    "from matplotlib import cm\n",
    "f = plt.figure(figsize=(6,6))\n",
    "plt.axes().set_aspect('equal')\n",
    "cs = cm.Greens(np.arange(6)/6.)\n",
    "wedges, tn = plt.pie(df['Number of Days'], labels=df['Precipitation'], colors = cs)\n",
    "plt.title('Precipitation')\n",
    "f.savefig('Precipitation_PieChart.png', format='png', dpi=300, bbox_inches='tight')\n",
    "plt.show()"
   ]
  },
  {
   "cell_type": "code",
   "execution_count": 178,
   "metadata": {},
   "outputs": [
    {
     "data": {
      "image/png": "[encoded data removed]",
      "text/plain": [
       "<matplotlib.figure.Figure at 0x117daca50>"
      ]
     },
     "metadata": {},
     "output_type": "display_data"
    }
   ],
   "source": [
    "f = plt.figure(figsize=(8,6))\n",
    "ind = np.arange(len(df))\n",
    "width = 0.6\n",
    "rects = plt.axes().barh(ind, df['Number of Days'], width, color='lightgreen')\n",
    "\n",
    "plt.xlabel('Number of Days')\n",
    "plt.title('Precipitation')\n",
    "plt.yticks(ind)\n",
    "plt.axes().set_yticklabels(df['Precipitation'], va='bottom')\n",
    "f.savefig('Precipitation_BarChart.png', format='png', dpi=300, bbox_inches='tight')\n",
    "plt.show()"
   ]
  },
  {
   "cell_type": "code",
   "execution_count": null,
   "metadata": {
    "collapsed": true
   },
   "outputs": [],
   "source": []
  }
 ],
 "metadata": {
  "anaconda-cloud": {},
  "kernelspec": {
   "display_name": "Python [default]",
   "language": "python",
   "name": "python2"
  },
  "language_info": {
   "codemirror_mode": {
    "name": "ipython",
    "version": 2
   },
   "file_extension": ".py",
   "mimetype": "text/x-python",
   "name": "python",
   "nbconvert_exporter": "python",
   "pygments_lexer": "ipython2",
   "version": "2.7.12"
  }
 },
 "nbformat": 4,
 "nbformat_minor": 2
}
