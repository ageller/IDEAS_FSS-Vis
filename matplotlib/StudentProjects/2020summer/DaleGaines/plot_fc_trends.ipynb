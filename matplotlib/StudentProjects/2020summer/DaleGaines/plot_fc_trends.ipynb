{
 "cells": [
  {
   "cell_type": "code",
   "execution_count": 1,
   "metadata": {
    "scrolled": true
   },
   "outputs": [],
   "source": [
    "import os\n",
    "import numpy as np\n",
    "import matplotlib as mplt\n",
    "import matplotlib.pyplot as plt\n",
    "import matplotlib.cm as cm\n",
    "import pickle\n",
    "from get_sb_fcs import *\n",
    "\n",
    "%matplotlib inline\n",
    "plt.rcParams['figure.dpi'] = 150\n",
    "\n",
    "with open('elem_props.p', 'rb') as fr:\n",
    "    struc_dict = pickle.load(fr)"
   ]
  },
  {
   "cell_type": "markdown",
   "metadata": {},
   "source": [
    "## Plot Bending-Stretching terms"
   ]
  },
  {
   "cell_type": "code",
   "execution_count": 2,
   "metadata": {
    "scrolled": true
   },
   "outputs": [
    {
     "name": "stdout",
     "output_type": "stream",
     "text": [
      "Ag\n",
      "Stretching, Bending, Distance\n",
      "1NN: -1.3309,, 0.1061, 2.9235\n",
      "2NN: -0.0631,, 0.0272, 4.1345\n",
      "3NN: -0.0497,, -0.0016, 5.0637\n",
      "\n",
      "Al\n",
      "Stretching, Bending, Distance\n",
      "1NN: -1.2705,, 0.0872, 2.8566\n",
      "2NN: -0.0715,, -0.0092, 4.0398\n",
      "3NN: 0.0528,, -0.0034, 4.9478\n",
      "\n",
      "Au\n",
      "Stretching, Bending, Distance\n",
      "1NN: -1.8094,, 0.2592, 2.9340\n",
      "2NN: -0.1858,, 0.0484, 4.1494\n",
      "3NN: -0.0325,, -0.0060, 5.0819\n",
      "\n",
      "Ca\n",
      "Stretching, Bending, Distance\n",
      "1NN: -0.4843,, -0.0278, 3.9034\n",
      "2NN: 0.1269,, 0.0010, 5.5202\n",
      "3NN: -0.0191,, 0.0031, 6.7609\n",
      "\n",
      "Cu\n",
      "Stretching, Bending, Distance\n",
      "1NN: -1.7024,, 0.0825, 2.5661\n",
      "2NN: -0.0024,, 0.0308, 3.6289\n",
      "3NN: -0.0498,, -0.0049, 4.4445\n",
      "\n",
      "Ir\n",
      "Stretching, Bending, Distance\n",
      "1NN: -2.9599,, 0.1534, 2.7364\n",
      "2NN: -1.0304,, 0.3374, 3.8699\n",
      "3NN: -0.3164,, -0.0288, 4.7396\n",
      "\n",
      "Ni\n",
      "Stretching, Bending, Distance\n",
      "1NN: -2.2766,, 0.1176, 2.4846\n",
      "2NN: -0.1124,, 0.0408, 3.5137\n",
      "3NN: -0.1705,, 0.0170, 4.3034\n",
      "\n",
      "Pb\n",
      "Stretching, Bending, Distance\n",
      "1NN: -0.2098,, 0.0265, 3.5425\n",
      "2NN: -0.0541,, -0.0367, 5.0099\n",
      "3NN: -0.0727,, 0.0037, 6.1358\n",
      "\n",
      "Pd\n",
      "Stretching, Bending, Distance\n",
      "1NN: -2.3199,, 0.1069, 2.7823\n",
      "2NN: -0.0935,, 0.0636, 3.9348\n",
      "3NN: -0.0774,, 0.0202, 4.8192\n",
      "\n",
      "Pt\n",
      "Stretching, Bending, Distance\n",
      "1NN: -3.1669,, 0.2435, 2.8025\n",
      "2NN: -0.3063,, 0.0876, 3.9634\n",
      "3NN: -0.1567,, 0.0217, 4.8541\n",
      "\n",
      "Rh\n",
      "Stretching, Bending, Distance\n",
      "1NN: -2.3914,, 0.0931, 2.7021\n",
      "2NN: -0.6212,, 0.2006, 3.8214\n",
      "3NN: -0.3414,, 0.0562, 4.6802\n",
      "\n",
      "Sr\n",
      "Stretching, Bending, Distance\n",
      "1NN: -0.3946,, -0.0331, 4.2559\n",
      "2NN: 0.1088,, 0.0024, 6.0187\n",
      "3NN: -0.0034,, -0.0029, 7.3713\n",
      "\n",
      "Yb\n",
      "Stretching, Bending, Distance\n",
      "1NN: -0.5466,, -0.0341, 3.8217\n",
      "2NN: 0.1300,, -0.0025, 5.4046\n",
      "3NN: -0.0089,, 0.0037, 6.6193\n",
      "\n"
     ]
    }
   ],
   "source": [
    "for name, sb_fcs in struc_dict.items():\n",
    "    print(name)\n",
    "    print('Stretching, Bending, Distance')\n",
    "    distances = sb_fcs.distances_nn_sb_fcs[0][0]\n",
    "    sb_fcs_plt = sb_fcs.nn_sb_fcs[0][0]\n",
    "    for j, neighbor in enumerate(sb_fcs_plt[1:]):\n",
    "        print(f\"{j+1}NN: {neighbor[2,2]:.4f},, {neighbor[0,0]:.4f}, {distances[j+1]:.4f}\")\n",
    "    print('')"
   ]
  },
  {
   "cell_type": "code",
   "execution_count": 3,
   "metadata": {},
   "outputs": [
    {
     "data": {
      "image/png": "[encoded data removed]",
      "text/plain": [
       "<Figure size 720x360 with 2 Axes>"
      ]
     },
     "metadata": {
      "needs_background": "light"
     },
     "output_type": "display_data"
    }
   ],
   "source": [
    "fig, axes = plt.subplots(ncols=2, sharey=True, figsize=(10,5))\n",
    "plt.subplots_adjust(wspace=0.05)\n",
    "blues = cm.Blues(np.linspace(1, 0.4, 3))\n",
    "reds = cm.Reds(np.linspace(1, 0.3, 3))\n",
    "\n",
    "ax1, ax2 = axes\n",
    "ax1.set_title('Stretching Terms', fontsize=20)\n",
    "ax2.set_title('Bending Terms', fontsize=20)\n",
    "ax1.set_ylabel('Force Constant (eV/$\\AA$)', fontsize=16)\n",
    "for ax in axes:\n",
    "    ax.tick_params(axis='both', which='major', labelsize=14)\n",
    "    ax.set_xlabel('Distance ($\\AA$)', fontsize=16)\n",
    "    ax.grid()\n",
    "s1 = mplt.patches.Patch(color=blues[0], label='1NN')\n",
    "s2 = mplt.patches.Patch(color=blues[1], label='2NN')\n",
    "s3 = mplt.patches.Patch(color=blues[2], label='3NN')\n",
    "b1 = mplt.patches.Patch(color=reds[0], label='1NN')\n",
    "b2 = mplt.patches.Patch(color=reds[1], label='2NN')\n",
    "b3 = mplt.patches.Patch(color=reds[2], label='3NN')\n",
    "ax1.legend(handles=[s1, s2, s3], loc='lower right')\n",
    "ax2.legend(handles=[b1, b2, b3], loc='lower right')\n",
    "\n",
    "for name, sb_fcs in struc_dict.items():\n",
    "    distances = sb_fcs.distances_nn_sb_fcs[0][0]\n",
    "    sb_fcs_plt = sb_fcs.nn_sb_fcs[0][0]\n",
    "    for j, neighbor in enumerate(sb_fcs_plt[1:]):\n",
    "        ax1.scatter(distances[j+1], neighbor[2,2], color=blues[j])\n",
    "        if neighbor[2,2] < -2.5:\n",
    "            ax1.annotate(name, (distances[j+1]+0.1, neighbor[2,2]))\n",
    "        ax2.scatter(distances[j+1], neighbor[0,0], color=reds[j])\n",
    "plt.show()\n",
    "fig.savefig('stretching_bending.pdf')"
   ]
  }
 ],
 "metadata": {
  "kernelspec": {
   "display_name": "Python 3",
   "language": "python",
   "name": "python3"
  },
  "language_info": {
   "codemirror_mode": {
    "name": "ipython",
    "version": 3
   },
   "file_extension": ".py",
   "mimetype": "text/x-python",
   "name": "python",
   "nbconvert_exporter": "python",
   "pygments_lexer": "ipython3",
   "version": "3.7.7"
  }
 },
 "nbformat": 4,
 "nbformat_minor": 2
}
