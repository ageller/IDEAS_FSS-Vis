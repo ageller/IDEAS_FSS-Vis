{
 "cells": [
  {
   "cell_type": "markdown",
   "metadata": {},
   "source": [
    "# Figures based on publicly available O3a data from GCNs\n",
    "These are figures requested by Vicky for an upcoming talk"
   ]
  },
  {
   "cell_type": "code",
   "execution_count": null,
   "metadata": {},
   "outputs": [],
   "source": [
    "import matplotlib\n",
    "matplotlib.rcParams['figure.figsize'] = (10.0, 8.0)\n",
    "matplotlib.rcParams['xtick.labelsize'] = 24.0\n",
    "matplotlib.rcParams['ytick.labelsize'] = 24.0\n",
    "matplotlib.rcParams['axes.titlesize'] = 27.0\n",
    "matplotlib.rcParams['axes.labelsize'] = 27.0\n",
    "matplotlib.rcParams['lines.markersize'] = 10.0\n",
    "matplotlib.rcParams['legend.fontsize'] = 24.0\n",
    "matplotlib.rcParams['text.usetex'] = True\n",
    "matplotlib.rcParams['text.latex.preamble'] = r\"\\usepackage{amsmath}\"\n",
    "matplotlib.rcParams['font.serif'] = ['Computer Modern', 'Times New Roman']\n",
    "matplotlib.rcParams['font.family'] = ['serif', 'STIXGeneral']\n",
    "matplotlib.rcParams['legend.frameon'] = False\n",
    "import matplotlib.pyplot as plt\n",
    "\n",
    "import numpy as np\n",
    "import pandas as pd\n",
    "\n",
    "from astropy.cosmology import Planck15, z_at_value\n",
    "from astropy import units"
   ]
  },
  {
   "cell_type": "code",
   "execution_count": null,
   "metadata": {},
   "outputs": [],
   "source": [
    "O3a_events = {'S190408an': [False, 387, 1473, 358],\n",
    "              'S190412m': [False, 156, 812, 194],\n",
    "              'S190421ar': [False, 1444, 1628, 535],\n",
    "              'S190425z': [True, 7461, 156, 41],\n",
    "              'S190426c': [True, 1131, 377, 100],\n",
    "              'S190503bf': [False, 448, 421, 105],\n",
    "              'S190510g': [True, 1166, 227, 92],\n",
    "              'S190512at': [False, 252, 1388, 322],\n",
    "              'S190513bm': [False, 691, 1987, 501, 3],\n",
    "              'S190517h': [False, 939, 2950, 1038, 3],\n",
    "              'S190519bj': [False, 967, 3154, 791, 3],\n",
    "              'S190521g': [False, 765, 3931, 953, 3],\n",
    "              'S190521r': [False, 488, 1136, 279, 2],\n",
    "              'S190602aq': [False, 1172, 797, 238, 3],\n",
    "              'S190630ag': [False, 8493, 1059, 307, 2],\n",
    "              'S190701ah': [False, 49, 1849, 446, 3],\n",
    "              'S190706ai': [False, 826, 5263, 1402, 3],\n",
    "              'S190707q': [False, 1375, 810, 234, 2],\n",
    "              'S190720a': [False, 1599, 1159, 364, 2],\n",
    "              'S190727h': [False, 151, 2839, 655, 3],\n",
    "              'S190728q': [False, 104, 874, 171, 3],\n",
    "              'S190814bv': [True, 23, 267, 52, 3],\n",
    "              'S190828j': [False, 587, 1803, 423, 3],\n",
    "              'S190828l': [False, 948, 1609, 426, 3],\n",
    "              'S190901ap': [True, 13613, 242, 81, 2]\n",
    "             } \n"
   ]
  },
  {
   "cell_type": "code",
   "execution_count": null,
   "metadata": {},
   "outputs": [],
   "source": [
    "events = pd.DataFrame.from_dict(O3a_events, orient='index',\n",
    "    columns=['prob_bns', 'sky_area', 'dist', 'dist_unc', num_ifos])"
   ]
  },
  {
   "cell_type": "code",
   "execution_count": null,
   "metadata": {
    "scrolled": false
   },
   "outputs": [],
   "source": [
    "fig = plt.figure()\n",
    "ax = fig.add_subplot(111)\n",
    "ymax = 2000\n",
    "\n",
    "ns_count = 0\n",
    "bh_count = 0\n",
    "\n",
    "\n",
    "for event in O3a_events:\n",
    "    prob_bns, sky_area, dist, dist_unc = O3a_events[event]\n",
    "    \n",
    "    label = None\n",
    "    \n",
    "    # Set BNS to a certain color\n",
    "    if prob_bns:\n",
    "        color = '#af8dc3'\n",
    "        marker = 'o'\n",
    "        ns_count += 1\n",
    "        if ns_count == 2:\n",
    "            label = 'High NS Probability'\n",
    "    else:\n",
    "        color = '#7fbf7b'\n",
    "        bh_count += 1\n",
    "        marker = 'd'\n",
    "        if bh_count == 1:\n",
    "            label = 'Low NS Probability'\n",
    "            \n",
    "    # Find redshift\n",
    "    z = z_at_value(Planck15.luminosity_distance, dist * units.Mpc)\n",
    "    \n",
    "    # Set upper limit arrow if too high\n",
    "    if sky_area > ymax:\n",
    "#         plt.scatter(dist, ymax - 100, color=color, \n",
    "#             marker=marker, facecolors='none') #, mec='k', mfc='color')\n",
    "        ax.annotate(\"\", xy=(dist, ymax- 10), xytext=(dist, ymax-150),\n",
    "            arrowprops=dict(arrowstyle=\"-|>\", color=color))\n",
    "        \n",
    "    else:\n",
    "        plt.errorbar(dist, sky_area, xerr=dist_unc, color=color, mec='k',\n",
    "            marker=marker, label=label)\n",
    "\n",
    "        \n",
    "plt.legend(loc='upper right')\n",
    "plt.xlim([0,7000])\n",
    "plt.ylim([0, ymax])\n",
    "plt.xlabel('Distance (Mpc)')\n",
    "plt.ylabel('Sky Area (deg$^2$)')\n",
    "        \n",
    "        \n",
    "\n",
    "# Set redshift ticks\n",
    "ax1 = plt.twiny(ax)\n",
    "z_ticks = np.linspace(0, 1, 6)\n",
    "dist_ticks = [Planck15.luminosity_distance(z).value for z in z_ticks]\n",
    "print(dist_ticks)\n",
    "ax1.set_xticks(dist_ticks)\n",
    "ax1.set_xticklabels(['%.1f' % v for v in z_ticks])\n",
    "\n",
    "\n",
    "ax1.set_xlim(ax.get_xlim())\n",
    "ax1.set_xlabel('Redshift')\n",
    "        \n",
    "#plt.savefig('O3a_dist_skyarea.png')\n",
    "#plt.show()"
   ]
  },
  {
   "cell_type": "markdown",
   "metadata": {},
   "source": [
    "# Color by number of interferometers"
   ]
  },
  {
   "cell_type": "code",
   "execution_count": null,
   "metadata": {},
   "outputs": [],
   "source": []
  },
  {
   "cell_type": "markdown",
   "metadata": {},
   "source": [
    "# Read in the data from GraceDb\n",
    "Below, I tried to read in the data with a script instead of typing it in by hand.\n",
    "\n",
    "This requires the following package: https://gw.readthedocs.io/projects/ligo-gracedb/en/latest/installation.html"
   ]
  },
  {
   "cell_type": "code",
   "execution_count": null,
   "metadata": {},
   "outputs": [],
   "source": [
    "from ligo.gracedb.rest import GraceDb\n",
    "\n",
    "\n",
    "# Initiate GraceDb client\n",
    "client = GraceDb()"
   ]
  },
  {
   "cell_type": "code",
   "execution_count": null,
   "metadata": {},
   "outputs": [],
   "source": [
    "# Search for public O3 events\n",
    "event_iterator = client.superevents('1238112018 .. 1563214827 ADVOK')"
   ]
  },
  {
   "cell_type": "code",
   "execution_count": null,
   "metadata": {},
   "outputs": [],
   "source": []
  }
 ],
 "metadata": {
  "kernelspec": {
   "display_name": "Python 3",
   "language": "python",
   "name": "python3"
  },
  "language_info": {
   "codemirror_mode": {
    "name": "ipython",
    "version": 3
   },
   "file_extension": ".py",
   "mimetype": "text/x-python",
   "name": "python",
   "nbconvert_exporter": "python",
   "pygments_lexer": "ipython3",
   "version": "3.7.3"
  }
 },
 "nbformat": 4,
 "nbformat_minor": 2
}
