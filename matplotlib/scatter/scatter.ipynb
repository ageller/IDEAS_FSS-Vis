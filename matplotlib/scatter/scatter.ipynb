{
 "cells": [
  {
   "cell_type": "markdown",
   "metadata": {},
   "source": [
    "# Scatter Demo\n",
    "## Plus a contour plot"
   ]
  },
  {
   "cell_type": "code",
   "execution_count": null,
   "metadata": {
    "collapsed": true
   },
   "outputs": [],
   "source": [
    "import numpy\n",
    "from astropy.io import ascii\n",
    "import matplotlib\n",
    "from matplotlib import pyplot\n",
    "\n",
    "%matplotlib inline"
   ]
  },
  {
   "cell_type": "markdown",
   "metadata": {},
   "source": [
    "## Read in the data; I'm using astropy"
   ]
  },
  {
   "cell_type": "code",
   "execution_count": null,
   "metadata": {
    "collapsed": false
   },
   "outputs": [],
   "source": [
    "c90 = ascii.read('congress90.csv', format='csv')\n",
    "c90"
   ]
  },
  {
   "cell_type": "code",
   "execution_count": null,
   "metadata": {
    "collapsed": false
   },
   "outputs": [],
   "source": [
    "c114 = ascii.read('congress114.csv', format='csv')\n",
    "c114"
   ]
  },
  {
   "cell_type": "markdown",
   "metadata": {},
   "source": [
    "## Let's plot these as two subplots"
   ]
  },
  {
   "cell_type": "code",
   "execution_count": null,
   "metadata": {
    "collapsed": false
   },
   "outputs": [],
   "source": [
    "#define the subplots and figure size\n",
    "f, (ax1, ax2) = pyplot.subplots(1, 2, figsize=(10,7))\n",
    "\n",
    "#plot the data with better colors\n",
    "ax1.scatter(c90['x'], c90['alt'])\n",
    "ax2.scatter(c114['x'], c114['alt'])\n"
   ]
  },
  {
   "cell_type": "markdown",
   "metadata": {},
   "source": [
    "## Make this better\n",
    "* We need to force the axes to have the same limits \n",
    "* In that case, they could share a y axis\n",
    "* We can improve the colors"
   ]
  },
  {
   "cell_type": "code",
   "execution_count": null,
   "metadata": {
    "collapsed": false
   },
   "outputs": [],
   "source": [
    "#define the subplots and figure size\n",
    "f, (ax1, ax2) = pyplot.subplots(1, 2,  figsize = (14, 6.5), sharey = True)\n",
    "\n",
    "#plot the data with better colors\n",
    "ax1.scatter(c90['x'], c90['alt'], c = 'lightblue', edgecolors = 'darkblue', zorder = 3)\n",
    "ax2.scatter(c114['x'], c114['alt'], c = 'lightblue', edgecolors = 'darkblue', zorder = 3)\n",
    "\n",
    "#add axes labels,and define the limits\n",
    "ax1.set_xlabel('x', fontsize = 20)\n",
    "ax1.set_ylabel('alt',fontsize = 20)\n",
    "ax1.set_xlim(-1.1, 1.1)\n",
    "ax1.set_ylim(-1.1, 1.1)\n",
    "\n",
    "ax2.set_xlabel('x', fontsize = 20)\n",
    "ax2.set_xlim(-1.1, 1.1)\n",
    "ax2.set_ylim(-1.1, 1.1)\n",
    "\n",
    "#add titles\n",
    "ax1.set_title('Congress 90', fontsize = 24)\n",
    "ax2.set_title('Congress 114', fontsize = 24)\n",
    "\n",
    "#add a grid? (and darker lines crossing the origin)\n",
    "t = numpy.arange(9)/4. - 1\n",
    "ax1.set_yticks(t)\n",
    "ax1.set_xticks(t)\n",
    "ax1.grid(color='gray', linestyle='-', linewidth=1, zorder = 1)\n",
    "ax1.plot([0,0],[-2,2], color='black', zorder = 2)\n",
    "ax1.plot([-2,2],[0,0], color='black', zorder = 2)\n",
    "\n",
    "ax2.set_yticks(t)\n",
    "ax2.set_xticks(t)\n",
    "ax2.grid(color='gray', linestyle='-', linewidth=1, zorder = 1)\n",
    "ax2.plot([0,0],[-2,2], color='black', zorder = 2)\n",
    "ax2.plot([-2,2],[0,0], color='black', zorder = 2)\n",
    "\n",
    "# Fine-tune figure; make subplots close to each other and hide x ticks for\n",
    "f.subplots_adjust(wspace=0.02)\n",
    "\n",
    "#also hide the ticks in the middle \n",
    "ax2.yaxis.set_ticks_position('none') \n",
    "\n",
    "f.savefig('scatter.pdf',format='pdf', bbox_inches = 'tight') \n"
   ]
  },
  {
   "cell_type": "markdown",
   "metadata": {},
   "source": [
    "## Can we show this in one plot?"
   ]
  },
  {
   "cell_type": "code",
   "execution_count": null,
   "metadata": {
    "collapsed": false
   },
   "outputs": [],
   "source": [
    "#define the subplots and figure size\n",
    "f = pyplot.figure(figsize=(7,7))\n",
    "\n",
    "#plot the data with better colors\n",
    "pyplot.scatter(c90['x'], c90['alt'], c = 'lightblue', edgecolors='darkblue', label='Congress 90', zorder = 3)\n",
    "pyplot.scatter(c114['x'], c114['alt'], c = 'pink', edgecolors='red', label='Congress 114', zorder = 3)\n",
    "\n",
    "#add axes labels, and define the limits\n",
    "pyplot.xlabel('x', fontsize=20)\n",
    "pyplot.ylabel('alt',fontsize=20)\n",
    "pyplot.xlim(-1.1, 1.1)\n",
    "pyplot.ylim(-1.1, 1.1)\n",
    "\n",
    "#add a grid?\n",
    "t = numpy.arange(9)/4. - 1\n",
    "pyplot.axes().set_yticks(t)\n",
    "pyplot.axes().set_xticks(t)\n",
    "pyplot.grid(color='gray', linestyle='-', linewidth=1, zorder = 1)\n",
    "pyplot.plot([0,0],[-2,2], color='black', zorder = 2)\n",
    "pyplot.plot([-2,2],[0,0], color='black', zorder = 2)\n",
    "\n",
    "\n",
    "#add a legend\n",
    "pyplot.legend(loc = 'upper right', fontsize = 14)\n"
   ]
  },
  {
   "cell_type": "markdown",
   "metadata": {},
   "source": [
    "## This might be OK, but the data overlap quite a bit, and it's a bit busy\n",
    "\n",
    "### We could try to use transparency, or just plot open symbols, but both have drawbacks\n",
    "\n",
    "## Let's try contours\n",
    "* We will need to make some density estimation of our data.  Let's use a <a href=\"https://docs.scipy.org/doc/scipy/reference/generated/scipy.stats.gaussian_kde.html\">Gaussian KDE</a>"
   ]
  },
  {
   "cell_type": "code",
   "execution_count": null,
   "metadata": {
    "collapsed": false
   },
   "outputs": [],
   "source": [
    "from scipy import stats\n",
    "import matplotlib.cm as cm\n",
    "\n",
    "xmin= -1.\n",
    "xmax = 1.\n",
    "ymin = -1.\n",
    "ymax = 1.\n",
    "\n",
    "#I took this from here : https://stackoverflow.com/questions/33793701/pyplot-scatter-to-contour-plot\n",
    "#which follows closely to the Gaussian KDE scipy page linked above\n",
    "def density_estimation(x, y):\n",
    "    xgrid, ygrid = numpy.mgrid[xmin:xmax:110j, ymin:ymax:110j]                                                     \n",
    "    positions = numpy.vstack([xgrid.ravel(), ygrid.ravel()])                                                       \n",
    "    values = numpy.vstack([x, y])                                                                        \n",
    "    kernel = stats.gaussian_kde(values)                                                                 \n",
    "    zgrid = numpy.reshape(kernel(positions).T, xgrid.shape)\n",
    "    return xgrid, ygrid, zgrid\n",
    "\n",
    "x90, y90, z90 = density_estimation(c90['x'], c90['alt'])\n",
    "x114, y114, z114 = density_estimation(c114['x'], c114['alt'])\n",
    "\n",
    "#maybe we want one of the contours to be filled\n",
    "f = pyplot.figure(figsize = (15,15))\n",
    "pyplot.axes().set_aspect('equal')\n",
    "cs90 = pyplot.contourf(x90, y90, z90, 10, cmap = cm.Reds,  zorder = 1)\n",
    "cs114 = pyplot.contour(x114, y114, z114, 10, cmap = cm.winter,  zorder = 4, linewidths = 3)  \n",
    "\n",
    "#add a grid?\n",
    "t = numpy.arange(9)/4. - 1\n",
    "pyplot.axes().set_yticks(t)\n",
    "pyplot.axes().set_xticks(t)\n",
    "pyplot.grid(color='gray', linestyle='-', linewidth=1, zorder = 2)\n",
    "pyplot.plot([0,0],[-2,2], color='black', zorder = 3)\n",
    "pyplot.plot([-2,2],[0,0], color='black', zorder = 3)\n",
    "\n",
    "#add color bars\n",
    "cb90 = pyplot.colorbar(cs90, shrink=0.5, extend='both')\n",
    "cb114 = pyplot.colorbar(cs114, shrink=0.5, extend='both', pad = 0.1)\n",
    "cb90.ax.set_ylabel('Congress 90', labelpad=-80, fontsize=20)\n",
    "cb114.ax.set_ylabel('Congress 114', labelpad=-80, fontsize=20)\n",
    "\n",
    "#add axes labels, and define the limits\n",
    "pyplot.xlabel('x', fontsize=20)\n",
    "pyplot.ylabel('alt',fontsize=20)\n",
    "pyplot.xlim(xmin, xmax)\n",
    "pyplot.ylim(ymin, ymax)\n",
    "\n",
    "f.savefig('contour.pdf',format='pdf', bbox_inches = 'tight') \n"
   ]
  },
  {
   "cell_type": "code",
   "execution_count": null,
   "metadata": {
    "collapsed": true
   },
   "outputs": [],
   "source": []
  }
 ],
 "metadata": {
  "kernelspec": {
   "display_name": "Python 2",
   "language": "python",
   "name": "python2"
  },
  "language_info": {
   "codemirror_mode": {
    "name": "ipython",
    "version": 2
   },
   "file_extension": ".py",
   "mimetype": "text/x-python",
   "name": "python",
   "nbconvert_exporter": "python",
   "pygments_lexer": "ipython2",
   "version": "2.7.13"
  }
 },
 "nbformat": 4,
 "nbformat_minor": 2
}
