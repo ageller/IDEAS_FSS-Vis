{
 "cells": [
  {
   "cell_type": "markdown",
   "metadata": {},
   "source": [
    "# Scatter Demo\n",
    "## Plus a contour plot"
   ]
  },
  {
   "cell_type": "code",
   "execution_count": null,
   "metadata": {},
   "outputs": [],
   "source": [
    "import numpy as np\n",
    "import pandas as pd\n",
    "import matplotlib\n",
    "from matplotlib import pyplot as plt\n",
    "\n",
    "%matplotlib inline"
   ]
  },
  {
   "cell_type": "markdown",
   "metadata": {},
   "source": [
    "## Read in the data\n",
    "\n",
    "*I'm using pandas*"
   ]
  },
  {
   "cell_type": "code",
   "execution_count": null,
   "metadata": {},
   "outputs": [],
   "source": [
    "c90 = pd.read_csv('congress90.csv')\n",
    "c90"
   ]
  },
  {
   "cell_type": "code",
   "execution_count": null,
   "metadata": {},
   "outputs": [],
   "source": [
    "c114 = pd.read_csv('congress114.csv')\n",
    "c114"
   ]
  },
  {
   "cell_type": "markdown",
   "metadata": {},
   "source": [
    "## Let's plot these as two subplots"
   ]
  },
  {
   "cell_type": "code",
   "execution_count": null,
   "metadata": {},
   "outputs": [],
   "source": [
    "#define the subplots and figure size\n",
    "f, (ax1, ax2) = plt.subplots(1, 2, figsize=(10,7))\n",
    "\n",
    "#plot the data with better colors\n",
    "ax1.scatter(c90['x'], c90['alt'])\n",
    "ax2.scatter(c114['x'], c114['alt'])\n"
   ]
  },
  {
   "cell_type": "markdown",
   "metadata": {},
   "source": [
    "## Make this better\n",
    "* We need to force the axes to have the same limits \n",
    "* In that case, they could share a y axis\n",
    "* We can improve the colors"
   ]
  },
  {
   "cell_type": "code",
   "execution_count": null,
   "metadata": {},
   "outputs": [],
   "source": [
    "#define the subplots and figure size\n",
    "f, (ax1, ax2) = plt.subplots(1, 2,  figsize = (14, 6.5), sharey = True)\n",
    "\n",
    "#plot the data with better colors\n",
    "ax1.scatter(c90['x'], c90['alt'], c = 'lightblue', edgecolors = 'darkblue', zorder = 3)\n",
    "ax2.scatter(c114['x'], c114['alt'], c = 'lightblue', edgecolors = 'darkblue', zorder = 3)\n",
    "\n",
    "#add axes labels,and define the limits\n",
    "ax1.set_xlabel('x', fontsize = 20)\n",
    "ax1.set_ylabel('alt',fontsize = 20)\n",
    "ax1.set_xlim(-1.1, 1.1)\n",
    "ax1.set_ylim(-1.1, 1.1)\n",
    "\n",
    "ax2.set_xlabel('x', fontsize = 20)\n",
    "ax2.set_xlim(-1.1, 1.1)\n",
    "ax2.set_ylim(-1.1, 1.1)\n",
    "\n",
    "#add titles\n",
    "ax1.set_title('Congress 90', fontsize = 24)\n",
    "ax2.set_title('Congress 114', fontsize = 24)\n",
    "\n",
    "#add a grid? (and darker lines crossing the origin)\n",
    "t = np.arange(9)/4. - 1\n",
    "ax1.set_yticks(t)\n",
    "ax1.set_xticks(t)\n",
    "ax1.grid(color='gray', linestyle='-', linewidth=1, zorder = 1)\n",
    "ax1.plot([0,0],[-2,2], color='black', zorder = 2)\n",
    "ax1.plot([-2,2],[0,0], color='black', zorder = 2)\n",
    "\n",
    "ax2.set_yticks(t)\n",
    "ax2.set_xticks(t)\n",
    "ax2.grid(color='gray', linestyle='-', linewidth=1, zorder = 1)\n",
    "ax2.plot([0,0],[-2,2], color='black', zorder = 2)\n",
    "ax2.plot([-2,2],[0,0], color='black', zorder = 2)\n",
    "\n",
    "# Fine-tune figure; make subplots close to each other and hide x ticks for\n",
    "f.subplots_adjust(wspace=0.02)\n",
    "\n",
    "#also hide the ticks in the middle \n",
    "ax2.yaxis.set_ticks_position('none') \n",
    "\n",
    "f.savefig('scatter.pdf',format='pdf', bbox_inches = 'tight') \n"
   ]
  },
  {
   "cell_type": "markdown",
   "metadata": {},
   "source": [
    "## Can we show this in one plot?"
   ]
  },
  {
   "cell_type": "code",
   "execution_count": null,
   "metadata": {},
   "outputs": [],
   "source": [
    "#define the subplots and figure size\n",
    "f,ax = plt.subplots(figsize=(7,7))\n",
    "\n",
    "#plot the data with better colors\n",
    "ax.scatter(c90['x'], c90['alt'], c = 'lightblue', edgecolors='darkblue', label='Congress 90', zorder = 3)\n",
    "ax.scatter(c114['x'], c114['alt'], c = 'pink', edgecolors='red', label='Congress 114', zorder = 3)\n",
    "\n",
    "#add axes labels, and define the limits\n",
    "ax.set_xlabel('x', fontsize=20)\n",
    "ax.set_ylabel('alt',fontsize=20)\n",
    "ax.set_xlim(-1.1, 1.1)\n",
    "ax.set_ylim(-1.1, 1.1)\n",
    "\n",
    "#add a grid?\n",
    "t = np.arange(9)/4. - 1\n",
    "ax.set_yticks(t)\n",
    "ax.set_xticks(t)\n",
    "ax.grid(color='gray', linestyle='-', linewidth=1, zorder = 1)\n",
    "ax.plot([0,0],[-2,2], color='black', zorder = 2)\n",
    "ax.plot([-2,2],[0,0], color='black', zorder = 2)\n",
    "\n",
    "\n",
    "#add a legend\n",
    "ax.legend(loc = 'upper right', fontsize = 14)\n"
   ]
  },
  {
   "cell_type": "markdown",
   "metadata": {},
   "source": [
    "## This might be OK, but the data overlap quite a bit, and it's a bit busy\n",
    "\n",
    "*We could try to use transparency, or just plot open symbols, but both have drawbacks*\n",
    "\n",
    "## Let's try contours ... see the next demo\n"
   ]
  },
  {
   "cell_type": "code",
   "execution_count": null,
   "metadata": {},
   "outputs": [],
   "source": []
  }
 ],
 "metadata": {
  "kernelspec": {
   "display_name": "Python 3",
   "language": "python",
   "name": "python3"
  },
  "language_info": {
   "codemirror_mode": {
    "name": "ipython",
    "version": 3
   },
   "file_extension": ".py",
   "mimetype": "text/x-python",
   "name": "python",
   "nbconvert_exporter": "python",
   "pygments_lexer": "ipython3",
   "version": "3.6.4"
  }
 },
 "nbformat": 4,
 "nbformat_minor": 2
}
