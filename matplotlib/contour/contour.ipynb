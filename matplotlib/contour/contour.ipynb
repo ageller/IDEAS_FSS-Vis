{
 "cells": [
  {
   "cell_type": "markdown",
   "metadata": {},
   "source": [
    "# Contours Demo\n",
    "\n",
    "## Building from the scatter demo"
   ]
  },
  {
   "cell_type": "code",
   "execution_count": null,
   "metadata": {},
   "outputs": [],
   "source": [
    "import numpy as np\n",
    "import pandas as pd\n",
    "import matplotlib\n",
    "from matplotlib import pyplot as plt\n",
    "import matplotlib.cm as cm\n",
    "from scipy import stats\n",
    "\n",
    "%matplotlib inline"
   ]
  },
  {
   "cell_type": "markdown",
   "metadata": {},
   "source": [
    "## Read in the data\n",
    "\n",
    "*I'm using pandas*"
   ]
  },
  {
   "cell_type": "code",
   "execution_count": null,
   "metadata": {},
   "outputs": [],
   "source": [
    "c90 = pd.read_csv('congress90.csv')\n",
    "c90"
   ]
  },
  {
   "cell_type": "code",
   "execution_count": null,
   "metadata": {},
   "outputs": [],
   "source": [
    "c114 = pd.read_csv('congress114.csv')\n",
    "c114"
   ]
  },
  {
   "cell_type": "markdown",
   "metadata": {},
   "source": [
    "## Let's try contours to show these two datasets on one figure\n",
    "\n",
    "*We will need to make some density estimation of our data.  Let's use a <a href=\"https://docs.scipy.org/doc/scipy/reference/generated/scipy.stats.gaussian_kde.html\">Gaussian KDE</a>*"
   ]
  },
  {
   "cell_type": "code",
   "execution_count": null,
   "metadata": {},
   "outputs": [],
   "source": [
    "#I took this from here : https://stackoverflow.com/questions/33793701/pyplot-scatter-to-contour-plot\n",
    "#which follows closely to the Gaussian KDE scipy page linked above\n",
    "def density_estimation(x, y, xmin=-1, xmax=1, ymin=-1, ymax=1):\n",
    "    xgrid, ygrid = np.mgrid[xmin:xmax:110j, ymin:ymax:110j]                                                     \n",
    "    positions = np.vstack([xgrid.ravel(), ygrid.ravel()])                                                       \n",
    "    values = np.vstack([x, y])                                                                        \n",
    "    kernel = stats.gaussian_kde(values)                                                                 \n",
    "    zgrid = np.reshape(kernel(positions).T, xgrid.shape)\n",
    "    return xgrid, ygrid, zgrid"
   ]
  },
  {
   "cell_type": "code",
   "execution_count": null,
   "metadata": {},
   "outputs": [],
   "source": [
    "xmin=-1\n",
    "xmax=1\n",
    "ymin=-1\n",
    "ymax=1\n",
    "#use the function above to bin the data\n",
    "x90, y90, z90 = density_estimation(c90['x'], c90['alt'], xmin, xmax, ymin, ymax)\n",
    "x114, y114, z114 = density_estimation(c114['x'], c114['alt'], xmin, xmax, ymin, ymax)\n",
    "\n",
    "#maybe we want one of the contours to be filled\n",
    "f,ax = plt.subplots(figsize = (15,15))\n",
    "ax.set_aspect('equal')\n",
    "cs90 = ax.contourf(x90, y90, z90, 10, cmap = cm.Reds,  zorder = 1)\n",
    "cs114 = ax.contour(x114, y114, z114, 10, cmap = cm.winter,  zorder = 4)  \n",
    "\n",
    "#add a grid?\n",
    "t = np.arange(9)/4. - 1\n",
    "ax.set_yticks(t)\n",
    "ax.set_xticks(t)\n",
    "ax.grid(color='gray', linestyle='-', linewidth=1, zorder = 2)\n",
    "ax.plot([0,0],[-2,2], color='black', zorder = 3)\n",
    "ax.plot([-2,2],[0,0], color='black', zorder = 3)\n",
    "\n",
    "#add color bars\n",
    "cb90 = f.colorbar(cs90, ax=ax, shrink=0.5)\n",
    "cb114 = f.colorbar(cs114, ax=ax, shrink=0.5, pad = 0.1)\n",
    "cb90.ax.set_ylabel('Congress 90', labelpad=-80, fontsize=20)\n",
    "cb114.ax.set_ylabel('Congress 114', labelpad=-80, fontsize=20)\n",
    "\n",
    "#add axes labels, and define the limits\n",
    "ax.set_xlabel('x', fontsize=20)\n",
    "ax.set_ylabel('alt',fontsize=20)\n",
    "ax.set_xlim(xmin, xmax)\n",
    "ax.set_ylim(ymin, ymax)\n",
    "\n",
    "f.savefig('contour.pdf',format='pdf', bbox_inches = 'tight') "
   ]
  },
  {
   "cell_type": "markdown",
   "metadata": {},
   "source": [
    "## Instead, let's plot the difference of the two KDEs"
   ]
  },
  {
   "cell_type": "code",
   "execution_count": null,
   "metadata": {},
   "outputs": [],
   "source": [
    "f,ax = plt.subplots(figsize = (15,15))\n",
    "ax.set_aspect('equal')\n",
    "\n",
    "zdiff = []\n",
    "for z1, z2 in zip(z90, z114):\n",
    "    zdiff.append(z2-z1)\n",
    "cs = plt.contourf(x114, y114, zdiff, 10, cmap = cm.bwr,  zorder = 1)  \n",
    "    \n",
    "#add a grid?\n",
    "t = np.arange(9)/4. - 1\n",
    "ax.set_yticks(t)\n",
    "ax.set_xticks(t)\n",
    "ax.grid(color='gray', linestyle='-', linewidth=1, zorder = 2)\n",
    "ax.plot([0,0],[-2,2], color='black', zorder = 3)\n",
    "ax.plot([-2,2],[0,0], color='black', zorder = 3)\n",
    "\n",
    "#add color bars\n",
    "cb114 = f.colorbar(cs, ax=ax, shrink=0.5, pad = 0.1)\n",
    "cb114.ax.set_ylabel('Congress 114 - 90', labelpad=-80, fontsize=20)\n",
    "\n",
    "#add axes labels, and define the limits\n",
    "ax.set_xlabel('x', fontsize=20)\n",
    "ax.set_ylabel('alt',fontsize=20)\n",
    "ax.set_xlim(xmin, xmax)\n",
    "ax.set_ylim(ymin, ymax)\n",
    "\n",
    "f.savefig('contour2.pdf',format='pdf', bbox_inches = 'tight') \n"
   ]
  },
  {
   "cell_type": "code",
   "execution_count": null,
   "metadata": {},
   "outputs": [],
   "source": []
  }
 ],
 "metadata": {
  "kernelspec": {
   "display_name": "Python 3",
   "language": "python",
   "name": "python3"
  },
  "language_info": {
   "codemirror_mode": {
    "name": "ipython",
    "version": 3
   },
   "file_extension": ".py",
   "mimetype": "text/x-python",
   "name": "python",
   "nbconvert_exporter": "python",
   "pygments_lexer": "ipython3",
   "version": "3.8.3"
  }
 },
 "nbformat": 4,
 "nbformat_minor": 2
}
