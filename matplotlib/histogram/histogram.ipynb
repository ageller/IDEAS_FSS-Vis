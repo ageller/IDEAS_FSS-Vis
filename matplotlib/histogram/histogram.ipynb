{
 "cells": [
  {
   "cell_type": "markdown",
   "metadata": {},
   "source": [
    "# Histogram Demo\n",
    "\n",
    "## Building from the scatter demo"
   ]
  },
  {
   "cell_type": "code",
   "execution_count": null,
   "metadata": {},
   "outputs": [],
   "source": [
    "import numpy as np\n",
    "import pandas as pd\n",
    "import matplotlib\n",
    "from matplotlib import pyplot as plt\n",
    "import matplotlib.cm as cm\n",
    "from matplotlib import gridspec\n",
    "\n",
    "%matplotlib inline"
   ]
  },
  {
   "cell_type": "markdown",
   "metadata": {},
   "source": [
    "## Read in the data\n",
    "\n",
    "*I'm using pandas*"
   ]
  },
  {
   "cell_type": "code",
   "execution_count": null,
   "metadata": {},
   "outputs": [],
   "source": [
    "c90 = pd.read_csv('congress90.csv')\n",
    "c90"
   ]
  },
  {
   "cell_type": "markdown",
   "metadata": {},
   "source": [
    "### We'll make a heatmap, and also histograms"
   ]
  },
  {
   "cell_type": "code",
   "execution_count": null,
   "metadata": {},
   "outputs": [],
   "source": [
    "from matplotlib import gridspec\n",
    "\n",
    "\n",
    "f = plt.figure(figsize=(8, 8)) \n",
    "gs = gridspec.GridSpec(2, 2, height_ratios = [1, 3], width_ratios = [3, 1]) \n",
    "ax1 = plt.subplot(gs[0])\n",
    "ax2 = plt.subplot(gs[2])\n",
    "ax3 = plt.subplot(gs[3])\n",
    "\n",
    "#histograms\n",
    "Nx = Ny = 40\n",
    "xmin = ymin = -1.\n",
    "xmax = ymax = 1.\n",
    "xbins = np.linspace(xmin, xmax, Nx)\n",
    "ybins = np.linspace(ymin, ymax, Ny)\n",
    "hx1D, x1D, im = ax1.hist(c90['x'], bins=xbins, histtype='step', fill=False)\n",
    "hy1D, y1D, im = ax3.hist(c90['alt'], bins=ybins, histtype='step', fill=False, orientation=\"horizontal\")\n",
    "\n",
    "#heatmap\n",
    "ax2.hexbin(c90['x'], c90['alt'], gridsize=30, cmap=cm.Blues, bins='log', extent=(xmin, xmax, ymin, ymax))\n",
    "#ax2.hist2d(c90['x'], c90['alt'], bins=[Nx, Ny], range=[[xmin, xmax], [ymin, ymax]], cmap = cm.Blues)\n",
    "\n",
    "ax1.set_xlim(xmin, xmax)\n",
    "ax2.set_xlim(xmin, xmax)\n",
    "ax2.set_ylim(ymin, ymax)\n",
    "ax3.set_ylim(ymin, ymax)\n",
    "ax2.set_xlabel('x', fontsize=16)\n",
    "ax2.set_ylabel('alt', fontsize=16)\n",
    "plt.setp(ax1.get_yticklabels()[0], visible=False)\n",
    "plt.setp(ax1.get_xticklabels(), visible=False)\n",
    "plt.setp(ax3.get_yticklabels(), visible=False)\n",
    "plt.setp(ax3.get_xticklabels()[0], visible=False)\n",
    "f.subplots_adjust(hspace=0., wspace=0.)\n",
    "\n",
    "f.savefig('hist.pdf',format='pdf', bbox_inches = 'tight') \n"
   ]
  },
  {
   "cell_type": "code",
   "execution_count": null,
   "metadata": {},
   "outputs": [],
   "source": []
  }
 ],
 "metadata": {
  "kernelspec": {
   "display_name": "Python 3",
   "language": "python",
   "name": "python3"
  },
  "language_info": {
   "codemirror_mode": {
    "name": "ipython",
    "version": 3
   },
   "file_extension": ".py",
   "mimetype": "text/x-python",
   "name": "python",
   "nbconvert_exporter": "python",
   "pygments_lexer": "ipython3",
   "version": "3.6.4"
  }
 },
 "nbformat": 4,
 "nbformat_minor": 2
}
