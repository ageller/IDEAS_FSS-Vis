{
 "cells": [
  {
   "cell_type": "markdown",
   "metadata": {},
   "source": [
    "# Pie chart demo \n",
    "## Plus beginning legend manipulation"
   ]
  },
  {
   "cell_type": "code",
   "execution_count": null,
   "metadata": {},
   "outputs": [],
   "source": [
    "import numpy as np\n",
    "import pandas as pd\n",
    "import matplotlib\n",
    "from matplotlib import pyplot as plt\n",
    "\n",
    "%matplotlib inline"
   ]
  },
  {
   "cell_type": "markdown",
   "metadata": {},
   "source": [
    "## Read in the data\n",
    "\n",
    "*I'm using pandas*"
   ]
  },
  {
   "cell_type": "code",
   "execution_count": null,
   "metadata": {},
   "outputs": [],
   "source": [
    "data = pd.read_csv('pie.csv')\n",
    "data"
   ]
  },
  {
   "cell_type": "markdown",
   "metadata": {},
   "source": [
    "## This is what matplotlib will spit out for a default pie chart (not very useful)"
   ]
  },
  {
   "cell_type": "code",
   "execution_count": null,
   "metadata": {
    "scrolled": true
   },
   "outputs": [],
   "source": [
    "f,ax = plt.subplots()\n",
    "ax.set_aspect('equal') # Equal aspect ratio ensures that pie is drawn as a circle.\n",
    "wedges, t1 = ax.pie(data['Percent'])#, shadow=True, radius=2)\n"
   ]
  },
  {
   "cell_type": "markdown",
   "metadata": {},
   "source": [
    "## Let's add labels to the plot (we'll improve this later on)"
   ]
  },
  {
   "cell_type": "code",
   "execution_count": null,
   "metadata": {},
   "outputs": [],
   "source": [
    "f,ax = plt.subplots()\n",
    "ax.set_aspect('equal') # Equal aspect ratio ensures that pie is drawn as a circle.\n",
    "wedges, t1 = ax.pie(data['Percent'], labels=data['Usage'])\n"
   ]
  },
  {
   "cell_type": "markdown",
   "metadata": {},
   "source": [
    "## Let's add in the actual percentage values"
   ]
  },
  {
   "cell_type": "code",
   "execution_count": null,
   "metadata": {},
   "outputs": [],
   "source": [
    "f,ax = plt.subplots()\n",
    "ax.set_aspect('equal') # Equal aspect ratio ensures that pie is drawn as a circle.\n",
    "wedges, t1, t2 = ax.pie(data['Percent'], labels=data['Usage'], autopct='%1.0f%%')\n"
   ]
  },
  {
   "cell_type": "markdown",
   "metadata": {},
   "source": [
    "## Maybe we'd prefer to have a legend, instead of the labels sticking out of the pie chart. \n",
    "\n",
    "*Here's what matplotlib spits out by default*"
   ]
  },
  {
   "cell_type": "code",
   "execution_count": null,
   "metadata": {},
   "outputs": [],
   "source": [
    "f,ax = plt.subplots()\n",
    "ax.set_aspect('equal') # Equal aspect ratio ensures that pie is drawn as a circle.\n",
    "wedges, t1, t2 = ax.pie(data['Percent'], labels=data['Usage'], autopct='%1.0f%%')\n",
    "ax.legend()"
   ]
  },
  {
   "cell_type": "markdown",
   "metadata": {},
   "source": [
    "## Let's make this look better.\n",
    "* Make the font larger \n",
    "* Make the plot larger\n",
    "* Only include the labels in the legend\n",
    "* Move the legend to a more convenient location"
   ]
  },
  {
   "cell_type": "code",
   "execution_count": null,
   "metadata": {},
   "outputs": [],
   "source": [
    "#this will change the font globally, but you could also change the fontsize for each label independently\n",
    "font = {'size' : 20}\n",
    "matplotlib.rc('font', **font)\n",
    "\n",
    "f,ax = plt.subplots()\n",
    "ax.set_aspect('equal') # Equal aspect ratio ensures that pie is drawn as a circle.\n",
    "wedges, t1, t2 = ax.pie(data['Percent'], autopct='%1.0f%%', radius = 3)\n",
    "ax.legend(wedges, data['Usage'], ncol=2, bbox_to_anchor = (-1., -1.3, 3, 0.5), mode='expand')"
   ]
  },
  {
   "cell_type": "markdown",
   "metadata": {},
   "source": [
    "## A few more improvements\n",
    "* Rotate the plot a bit\n",
    "* \"Explode\" a few of the wedges highlight and group them.  Note that exploding individual wedges is easy, but grouping them takes a little more effort\n",
    "* Add some black lines to separate the wedges better\n",
    "* Add a title\n",
    "* Save the figure as an pdf file"
   ]
  },
  {
   "cell_type": "code",
   "execution_count": null,
   "metadata": {},
   "outputs": [],
   "source": [
    "#this will change the font globally, but you could also change the fontsize for each label independently\n",
    "font = {'size' : 20}\n",
    "matplotlib.rc('font', **font)\n",
    "\n",
    "offset = 0.1\n",
    "f,ax = plt.subplots(figsize=(4,4))\n",
    "ax.set_aspect('equal') # Equal aspect ratio ensures that pie is drawn as a circle.\n",
    "wedges, t1, t2 = ax.pie(data['Percent'], autopct='%1.0f%%', radius = 3, explode=(0,0,0,0,0, offset, offset), startangle = -30)\n",
    "ax.legend(wedges, data['Usage'], ncol=2, bbox_to_anchor = (-1., -1.3, 3, 0.5), mode='expand')\n",
    "\n",
    "#add a title\n",
    "ax.set_title('Percentage of Poor Usage', position=(0.5,1.8), fontsize=30)\n",
    "#define the group that we want to explode together, and find the angle it subtends\n",
    "group = [0,1,2,3,4]\n",
    "theta1 = min([wedges[i].theta1 for i in group])\n",
    "theta2 = max([wedges[i].theta2 for i in group])\n",
    "ang = (theta2 + theta1) / 2. * np.pi/180.\n",
    "for i, (w,t,tn) in enumerate(zip(wedges, t1, t2)):\n",
    "    #add lines around the wedges\n",
    "    w.set_linewidth(2)\n",
    "    w.set_edgecolor('#000000')\n",
    "    tn.set_color('white')\n",
    "    #this angle will be used for moving the percentage text\n",
    "    wang = (w.theta2 + w.theta1) / 2. * np.pi/180.\n",
    "    if (i in group):\n",
    "        xoff = offset/2. * w.r * np.cos(ang)\n",
    "        yoff = offset/2. * w.r * np.sin(ang)\n",
    "        #move the wedge\n",
    "        w.set_center( (w.center[0] + xoff, w.center[1] + yoff) )\n",
    "        #move the text\n",
    "        tn.set_position( ( 0.5*w.r * np.cos(wang) + xoff, 0.5*w.r * np.sin(wang) + yoff))#\n",
    "\n",
    "f.savefig('pie.png',bbox_inches = 'tight') #png doesn't show these artifacts even without the silly fix"
   ]
  },
  {
   "cell_type": "code",
   "execution_count": null,
   "metadata": {
    "scrolled": false
   },
   "outputs": [],
   "source": [
    "# #this is a silly fix for a lines bleeding out into the center of the figure in the PDF (not sure why python does this -- maybe it's dependent on OS or python version??)\n",
    "x1 = offset*(0.75 + np.cos(theta1))\n",
    "y1 = np.sin(theta1) - 0.935\n",
    "y2 = np.sin(theta1) - 1\n",
    "ax.plot([x1,x1],[y1,y1 + 0.1], color='white', linewidth=5)\n",
    "ax.plot([x1,x1 + 0.1],[y1, y2], color='white', linewidth=5)\n",
    "\n",
    "\n",
    "f.savefig('pie.pdf',format='pdf', bbox_inches = 'tight') "
   ]
  },
  {
   "cell_type": "code",
   "execution_count": null,
   "metadata": {},
   "outputs": [],
   "source": []
  }
 ],
 "metadata": {
  "kernelspec": {
   "display_name": "Python 3",
   "language": "python",
   "name": "python3"
  },
  "language_info": {
   "codemirror_mode": {
    "name": "ipython",
    "version": 3
   },
   "file_extension": ".py",
   "mimetype": "text/x-python",
   "name": "python",
   "nbconvert_exporter": "python",
   "pygments_lexer": "ipython3",
   "version": "3.6.4"
  }
 },
 "nbformat": 4,
 "nbformat_minor": 2
}
