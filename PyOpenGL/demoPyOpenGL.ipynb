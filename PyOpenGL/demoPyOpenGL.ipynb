{
 "cells": [
  {
   "cell_type": "markdown",
   "metadata": {},
   "source": [
    "# Demo of PyOpenGL\n",
    "\n",
    "*Using the Class that AMG wrote, in runPyOpenGL.py (mostly drawn from online examples)*"
   ]
  },
  {
   "cell_type": "code",
   "execution_count": 1,
   "metadata": {},
   "outputs": [],
   "source": [
    "from runPyOpenGL import runPyOpenGL\n",
    "import numpy as np\n",
    "\n",
    "code = runPyOpenGL()"
   ]
  },
  {
   "cell_type": "markdown",
   "metadata": {},
   "source": [
    "### Set up 'n' + 1 particles\n",
    "\n",
    "*And I'm keeping 1 particle in the center* "
   ]
  },
  {
   "cell_type": "code",
   "execution_count": 2,
   "metadata": {},
   "outputs": [],
   "source": [
    "np.random.seed(seed = 4444)\n",
    "\n",
    "n = 0\n",
    "if (n > 0):\n",
    "    fac = 0.1\n",
    "    rfac = 0.1\n",
    "    zpos = -0.5\n",
    "    code.objX = np.append(np.random.normal(size = n, loc = 0., scale = fac), 0.)\n",
    "    code.objY = np.append(np.random.normal(size = n, loc = 0., scale = fac), 0.)\n",
    "    code.objZ = np.append(np.random.normal(size = n, loc = zpos, scale = fac), zpos)\n",
    "    code.radius = np.append(np.random.random(size = n)*rfac, rfac)\n",
    "    code.color = np.append([[r, g, b, 1.] for (r,g,b) in zip(np.random.random(size = n), np.random.random(size = n), np.random.random(size = n))] , [[1.,1.,1.,1.]], axis = 0)\n",
    "    code.centerX = 0.\n",
    "    code.centerY = 0.\n",
    "    code.centerZ = zpos"
   ]
  },
  {
   "cell_type": "markdown",
   "metadata": {},
   "source": [
    "### Define the shaders"
   ]
  },
  {
   "cell_type": "code",
   "execution_count": 3,
   "metadata": {},
   "outputs": [],
   "source": [
    "# Most simple shaders\n",
    "code.vertexfile = 'shaders/vertex.glsl' \n",
    "code.fragmentfile = 'shaders/fragment.glsl'"
   ]
  },
  {
   "cell_type": "code",
   "execution_count": 4,
   "metadata": {},
   "outputs": [],
   "source": [
    "# This vertex shader includes Lighting\n",
    "#code.vertexfile = 'shaders/vertexLighting.glsl'"
   ]
  },
  {
   "cell_type": "code",
   "execution_count": 5,
   "metadata": {},
   "outputs": [],
   "source": [
    "# Either of these fragment shaders can be used with billboards \n",
    "#code.fragmentfile = 'shaders/fragmentLimbDarkening.glsl'\n",
    "\n",
    "#code.fragmentfile = 'shaders/fragmentCircle.glsl'\n",
    "# if you want transparency to work correctly, you need to sort by the Z location before drawing\n",
    "#code.doSort = True #[False]"
   ]
  },
  {
   "cell_type": "code",
   "execution_count": 6,
   "metadata": {},
   "outputs": [],
   "source": [
    "# This shader will produce a Jupiter-like planet, with the texture stored in imfile\n",
    "#code.fragmentfile = 'shaders/fragmentJupiter.glsl'\n",
    "#code.imfile = 'textures/gas_giant_lookup1.png'\n",
    "#code.time = 0.1 #set this to something > 0 to see changes in Jupiters \"clouds\""
   ]
  },
  {
   "cell_type": "code",
   "execution_count": 7,
   "metadata": {},
   "outputs": [],
   "source": [
    "# Choose one of these drawing types \n",
    "code.doSphere = True #[True] Isosheres: looks nice for a few spheres, but gets prohibitively slow for very many spheres)\n",
    "\n",
    "code.doBillboard = False #[False] Billboards: faster, but can't use lighting in the same way as Isospheres\n",
    "\n",
    "# let's first try this with the lines drawn.  Comment this out (or set to False) to fill in the spheres\n",
    "code.drawLine = True #[False]\n",
    "\n",
    "\n",
    "# do we want to add lighting? (if True, use the correct vertex shader, above)\n",
    "code.doLighting = False #[False]\n",
    "code.ambient = [0.1, 0.1, 0.1, 1]\n",
    "code.diffuse = [0.7, 0.7, 0.7, 1]"
   ]
  },
  {
   "cell_type": "markdown",
   "metadata": {},
   "source": [
    "## Call \"mainLoop\" to run\n",
    "\n",
    "*Hit q key to quit. (in Jupyter, this kills the kernel -- not sure how to avoide that)*"
   ]
  },
  {
   "cell_type": "code",
   "execution_count": null,
   "metadata": {},
   "outputs": [],
   "source": [
    "code.mainLoop()"
   ]
  },
  {
   "cell_type": "code",
   "execution_count": null,
   "metadata": {},
   "outputs": [],
   "source": []
  }
 ],
 "metadata": {
  "kernelspec": {
   "display_name": "Python 3",
   "language": "python",
   "name": "python3"
  },
  "language_info": {
   "codemirror_mode": {
    "name": "ipython",
    "version": 3
   },
   "file_extension": ".py",
   "mimetype": "text/x-python",
   "name": "python",
   "nbconvert_exporter": "python",
   "pygments_lexer": "ipython3",
   "version": "3.7.3"
  }
 },
 "nbformat": 4,
 "nbformat_minor": 2
}
