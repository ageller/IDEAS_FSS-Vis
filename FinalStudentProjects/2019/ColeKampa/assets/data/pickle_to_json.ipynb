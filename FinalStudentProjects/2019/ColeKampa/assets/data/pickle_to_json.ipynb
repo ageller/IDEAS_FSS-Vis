{
 "cells": [
  {
   "cell_type": "markdown",
   "metadata": {},
   "source": [
    "## Imports"
   ]
  },
  {
   "cell_type": "code",
   "execution_count": 1,
   "metadata": {},
   "outputs": [],
   "source": [
    "import numpy as np\n",
    "import pickle as pkl\n",
    "import pandas as pd\n",
    "\n",
    "import os\n",
    "\n",
    "%matplotlib inline"
   ]
  },
  {
   "cell_type": "code",
   "execution_count": 2,
   "metadata": {},
   "outputs": [],
   "source": [
    "pkl_dir = \"pkl/\"\n",
    "pkl_files = os.listdir(pkl_dir)"
   ]
  },
  {
   "cell_type": "markdown",
   "metadata": {},
   "source": [
    "## Run 05"
   ]
  },
  {
   "cell_type": "code",
   "execution_count": 72,
   "metadata": {},
   "outputs": [],
   "source": [
    "r5_files = [f for f in pkl_files if \"run_05\" in f]"
   ]
  },
  {
   "cell_type": "code",
   "execution_count": 73,
   "metadata": {},
   "outputs": [],
   "source": [
    "#r5_files"
   ]
  },
  {
   "cell_type": "code",
   "execution_count": 74,
   "metadata": {},
   "outputs": [],
   "source": [
    "df = []"
   ]
  },
  {
   "cell_type": "code",
   "execution_count": 75,
   "metadata": {},
   "outputs": [],
   "source": [
    "for f in r5_files:\n",
    "    df_ = pd.read_pickle(pkl_dir+f)\n",
    "    df.append(df_)"
   ]
  },
  {
   "cell_type": "code",
   "execution_count": 76,
   "metadata": {},
   "outputs": [],
   "source": [
    "df = pd.concat(df, axis=0, ignore_index=True)"
   ]
  },
  {
   "cell_type": "code",
   "execution_count": 77,
   "metadata": {
    "scrolled": true
   },
   "outputs": [],
   "source": [
    "#df"
   ]
  },
  {
   "cell_type": "markdown",
   "metadata": {},
   "source": [
    "Interpolate B field!"
   ]
  },
  {
   "cell_type": "code",
   "execution_count": 78,
   "metadata": {},
   "outputs": [],
   "source": [
    "from mu2e.tools.mapinterp import get_df_interp_func"
   ]
  },
  {
   "cell_type": "code",
   "execution_count": 79,
   "metadata": {},
   "outputs": [],
   "source": [
    "from mu2e import mu2e_ext_path\n",
    "from mu2e.dataframeprod import DataFrameMaker"
   ]
  },
  {
   "cell_type": "code",
   "execution_count": 80,
   "metadata": {},
   "outputs": [],
   "source": [
    "df_B = DataFrameMaker(mu2e_ext_path+\"datafiles/Mau13/Mu2e_DSMap_V13\",input_type='pkl').data_frame"
   ]
  },
  {
   "cell_type": "code",
   "execution_count": 81,
   "metadata": {},
   "outputs": [],
   "source": [
    "df_B.eval(\"Bx = Bx / 10000\",inplace=True)\n",
    "df_B.eval(\"By = By / 10000\",inplace=True)\n",
    "df_B.eval(\"Bz = Bz / 10000\",inplace=True)"
   ]
  },
  {
   "cell_type": "code",
   "execution_count": 82,
   "metadata": {},
   "outputs": [],
   "source": [
    "df_B.eval(\"X = X * 1000\",inplace=True)\n",
    "df_B.eval(\"Y = Y * 1000\",inplace=True)\n",
    "df_B.eval(\"Z = Z * 1000\",inplace=True)"
   ]
  },
  {
   "cell_type": "code",
   "execution_count": 83,
   "metadata": {},
   "outputs": [],
   "source": [
    "bfield_interp_mm = get_df_interp_func(df_B)"
   ]
  },
  {
   "cell_type": "code",
   "execution_count": 84,
   "metadata": {},
   "outputs": [],
   "source": [
    "#bfield_interp_mm(40, 11, 5922, True)"
   ]
  },
  {
   "cell_type": "code",
   "execution_count": 85,
   "metadata": {},
   "outputs": [],
   "source": [
    "df[\"B_tuple\"] = [bfield_interp_mm(row.X,row.Y,row.Z) for row in df.itertuples()]"
   ]
  },
  {
   "cell_type": "code",
   "execution_count": 86,
   "metadata": {},
   "outputs": [],
   "source": [
    "df[\"Bx\"] = [row.B_tuple[0] for row in df.itertuples()]\n",
    "df[\"By\"] = [row.B_tuple[1] for row in df.itertuples()]\n",
    "df[\"Bz\"] = [row.B_tuple[2] for row in df.itertuples()]"
   ]
  },
  {
   "cell_type": "code",
   "execution_count": 87,
   "metadata": {},
   "outputs": [],
   "source": [
    "from mu2e.tools.particletransport import *"
   ]
  },
  {
   "cell_type": "code",
   "execution_count": 88,
   "metadata": {},
   "outputs": [],
   "source": [
    "#state = list(test[[\"X\",\"Y\",\"Z\",\"Vx\",\"Vy\",\"Vz\"]].values)"
   ]
  },
  {
   "cell_type": "code",
   "execution_count": 89,
   "metadata": {},
   "outputs": [],
   "source": [
    "#f = lorentz_force(state, 0, bfield_interp_mm)[3:]"
   ]
  },
  {
   "cell_type": "code",
   "execution_count": 90,
   "metadata": {},
   "outputs": [],
   "source": [
    "#f"
   ]
  },
  {
   "cell_type": "code",
   "execution_count": 91,
   "metadata": {},
   "outputs": [],
   "source": [
    "#state[:3]"
   ]
  },
  {
   "cell_type": "code",
   "execution_count": 92,
   "metadata": {},
   "outputs": [],
   "source": [
    "df[\"Force_tuple\"] = [lorentz_force(list(row)[1:], 0, bfield_interp_mm)[3:] for row in df[[\"X\",\"Y\",\"Z\",\"Vx\",\"Vy\",\"Vz\"]].itertuples()]"
   ]
  },
  {
   "cell_type": "code",
   "execution_count": 93,
   "metadata": {},
   "outputs": [],
   "source": [
    "df[\"F\"] = [(row.Force_tuple[0]**2 + row.Force_tuple[1]**2 + row.Force_tuple[2]**2)**(1/2) for row in df.itertuples()]"
   ]
  },
  {
   "cell_type": "code",
   "execution_count": 94,
   "metadata": {},
   "outputs": [],
   "source": [
    "#df.F.describe()"
   ]
  },
  {
   "cell_type": "code",
   "execution_count": 95,
   "metadata": {},
   "outputs": [],
   "source": [
    "#df.F.hist()"
   ]
  },
  {
   "cell_type": "code",
   "execution_count": 96,
   "metadata": {},
   "outputs": [],
   "source": [
    "df.eval(\"V = (Vx**2 + Vy**2 + Vz**2)**(1/2)\", inplace=True)\n",
    "df.eval(\"B = (Bx**2 + By**2 + Bz**2)**(1/2)\", inplace=True)"
   ]
  },
  {
   "cell_type": "code",
   "execution_count": 97,
   "metadata": {},
   "outputs": [],
   "source": [
    "#df.V.hist()"
   ]
  },
  {
   "cell_type": "code",
   "execution_count": 98,
   "metadata": {},
   "outputs": [],
   "source": [
    "#df.V.describe()"
   ]
  },
  {
   "cell_type": "code",
   "execution_count": 99,
   "metadata": {},
   "outputs": [],
   "source": [
    "df[\"Fx\"] = [row.Force_tuple[0] for row in df.itertuples()]\n",
    "df[\"Fy\"] = [row.Force_tuple[1] for row in df.itertuples()]\n",
    "df[\"Fz\"] = [row.Force_tuple[2] for row in df.itertuples()]"
   ]
  },
  {
   "cell_type": "code",
   "execution_count": 100,
   "metadata": {},
   "outputs": [
    {
     "data": {
      "text/plain": [
       "Index(['X', 'Y', 'Z', 'Vx', 'Vy', 'Vz', 'time', 'event', 'E0', 'EF', 'B_tuple',\n",
       "       'Bx', 'By', 'Bz', 'Force_tuple', 'F', 'V', 'B', 'Fx', 'Fy', 'Fz'],\n",
       "      dtype='object')"
      ]
     },
     "execution_count": 100,
     "metadata": {},
     "output_type": "execute_result"
    }
   ],
   "source": [
    "df.columns"
   ]
  },
  {
   "cell_type": "code",
   "execution_count": 106,
   "metadata": {},
   "outputs": [
    {
     "data": {
      "text/plain": [
       "array([ 6, 15, 12,  2])"
      ]
     },
     "execution_count": 106,
     "metadata": {},
     "output_type": "execute_result"
    }
   ],
   "source": [
    "df.event.unique()"
   ]
  },
  {
   "cell_type": "code",
   "execution_count": 102,
   "metadata": {},
   "outputs": [
    {
     "data": {
      "text/plain": [
       "X                                                     552.42\n",
       "Y                                                    524.042\n",
       "Z                                                    12001.8\n",
       "Vx                                               2.99306e+11\n",
       "Vy                                               2.99769e+11\n",
       "Vz                                               2.90545e+11\n",
       "time                                                   8e-08\n",
       "event                                                     15\n",
       "E0                                                   105.001\n",
       "EF                                                   105.001\n",
       "B_tuple    (0.10742643625551421, 0.08219499994081358, 2.1...\n",
       "Bx                                                  0.107426\n",
       "By                                                 0.0976276\n",
       "Bz                                                   2.13079\n",
       "F                                                5.47708e+20\n",
       "V                                                2.99789e+11\n",
       "B                                                    2.13508\n",
       "Fx                                               5.32476e+20\n",
       "Fy                                                5.3593e+20\n",
       "Fz                                               3.51738e+19\n",
       "dtype: object"
      ]
     },
     "execution_count": 102,
     "metadata": {},
     "output_type": "execute_result"
    }
   ],
   "source": [
    "df.max()"
   ]
  },
  {
   "cell_type": "code",
   "execution_count": 103,
   "metadata": {},
   "outputs": [],
   "source": [
    "df[\"Fx_scaled\"] = df[\"Fx\"] / df.F.max()\n",
    "df[\"Fx_scaled\"] = df[\"Fx\"] / df.F.max()\n",
    "df[\"Fx_scaled\"] = df[\"Fx\"] / df.F.max()\n",
    "\n",
    "df[\"Fx_scaled\"] = df[\"Fx\"] / df.F.max()\n",
    "df[\"Fx_scaled\"] = df[\"Fx\"] / df.F.max()\n",
    "df[\"Fx_scaled\"] = df[\"Fx\"] / df.F.max()"
   ]
  },
  {
   "cell_type": "code",
   "execution_count": 104,
   "metadata": {},
   "outputs": [],
   "source": [
    "for i in [\"Fx\",\"Fy\",\"Fz\",\"Vx\",\"Vy\",\"Vz\",\"Bx\",\"By\",\"Bz\"]:\n",
    "    df[f\"{i}_scaled\"] = df[i] / df[i[0]].max()"
   ]
  },
  {
   "cell_type": "code",
   "execution_count": null,
   "metadata": {},
   "outputs": [],
   "source": []
  },
  {
   "cell_type": "code",
   "execution_count": null,
   "metadata": {},
   "outputs": [],
   "source": []
  },
  {
   "cell_type": "code",
   "execution_count": null,
   "metadata": {},
   "outputs": [],
   "source": []
  },
  {
   "cell_type": "code",
   "execution_count": null,
   "metadata": {},
   "outputs": [],
   "source": []
  },
  {
   "cell_type": "markdown",
   "metadata": {},
   "source": [
    "## Write to JSON File"
   ]
  },
  {
   "cell_type": "code",
   "execution_count": 105,
   "metadata": {},
   "outputs": [],
   "source": [
    "df.to_json(\"track_data.json\", orient=\"records\")"
   ]
  },
  {
   "cell_type": "code",
   "execution_count": null,
   "metadata": {},
   "outputs": [],
   "source": []
  }
 ],
 "metadata": {
  "kernelspec": {
   "display_name": "Python [conda env:Mu2E]",
   "language": "python",
   "name": "conda-env-Mu2E-py"
  },
  "language_info": {
   "codemirror_mode": {
    "name": "ipython",
    "version": 3
   },
   "file_extension": ".py",
   "mimetype": "text/x-python",
   "name": "python",
   "nbconvert_exporter": "python",
   "pygments_lexer": "ipython3",
   "version": "3.7.4"
  }
 },
 "nbformat": 4,
 "nbformat_minor": 2
}
