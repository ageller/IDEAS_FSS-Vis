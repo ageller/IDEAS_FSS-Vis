{
 "cells": [
  {
   "cell_type": "code",
   "execution_count": null,
   "metadata": {},
   "outputs": [],
   "source": [
    "import plotly.graph_objects as go\n",
    "import pandas as pd\n",
    "import numpy as np\n",
    "\n"
   ]
  },
  {
   "cell_type": "code",
   "execution_count": null,
   "metadata": {},
   "outputs": [],
   "source": [
    "file = open('tmp_0001_amp2.bin','rb')\n",
    "#each figure was produced with this same script by changing the input file.\n",
    "\n",
    "#print(\"Line 12\")\n",
    "\n",
    "N = 50000000\n",
    "\n",
    "#read in the data using numpy\n",
    "data = np.fromfile(file, dtype=np.float64, count=N)\n",
    "\n",
    "#remove nans\n",
    "data1 = np.nan_to_num(data)\n",
    "\n",
    "\n",
    "#print(\"Line 23\")\n",
    "\n",
    "maxN = 128\n",
    "minN = 32\n",
    "\n",
    "#xgrid, ygrid, zgrid = np.mgrid[0:maxN:1, 0:maxN:1, 0:minN:1]\n",
    "\n",
    "x1 = np.linspace(0, maxN-1, maxN)\n",
    "y1 = np.linspace(0, maxN-1, maxN)\n",
    "z1 =np.linspace(0, minN-1, minN)\n",
    "  \n",
    "X, Z, Y = np.meshgrid(x1, z1,y1)\n",
    "\n",
    "\n",
    "\n",
    "#print(Z.flatten())"
   ]
  },
  {
   "cell_type": "code",
   "execution_count": null,
   "metadata": {},
   "outputs": [],
   "source": [
    "fig = go.Figure(data=go.Volume(\n",
    "    x=(X.flatten()/maxN*40),\n",
    "    y=(Y.flatten()/maxN*40),\n",
    "    z=(Z.flatten()/minN*10), \n",
    "   isomin=0,\n",
    "    isomax=1,\n",
    "    value=data1,\n",
    "    opacityscale=[[0, 1], [0.6,1],[0.9, 0.3], [1, 0.3]],\n",
    "    opacity= 1,\n",
    "    surface_count=3,cmin = 0, cmax = 1, colorscale='viridis',colorbar={\"title\": '|\\u03C8|^2'}))\n",
    "\n",
    "fig.update_layout(\n",
    "    title='Pinning Site', \n",
    "    autosize=False,\n",
    "    width=500, \n",
    "    height=500,\n",
    "    margin=dict(l=65, r=50, b=65, t=90),\n",
    "    scene=dict(\n",
    "        xaxis_title='x/\\u03BE',\n",
    "        yaxis_title='y/\\u03BE',\n",
    "        zaxis_title='z/\\u03BE'\n",
    "    ))\n",
    "\n",
    "\n",
    "fig.show()\n",
    "fig.write_html('Pinning_Site.html')"
   ]
  },
  {
   "cell_type": "code",
   "execution_count": null,
   "metadata": {},
   "outputs": [],
   "source": [
    "print('\\u03BE')"
   ]
  },
  {
   "cell_type": "code",
   "execution_count": null,
   "metadata": {},
   "outputs": [],
   "source": []
  },
  {
   "cell_type": "code",
   "execution_count": null,
   "metadata": {},
   "outputs": [],
   "source": []
  }
 ],
 "metadata": {
  "kernelspec": {
   "display_name": "Python 3 (ipykernel)",
   "language": "python",
   "name": "python3"
  },
  "language_info": {
   "codemirror_mode": {
    "name": "ipython",
    "version": 3
   },
   "file_extension": ".py",
   "mimetype": "text/x-python",
   "name": "python",
   "nbconvert_exporter": "python",
   "pygments_lexer": "ipython3",
   "version": "3.9.7"
  }
 },
 "nbformat": 4,
 "nbformat_minor": 4
}
