{
 "cells": [
  {
   "cell_type": "code",
   "execution_count": 11,
   "metadata": {},
   "outputs": [],
   "source": [
    "import sqlite3\n",
    "import numpy as np\n",
    "import pandas as pd \n",
    "import matplotlib.pyplot as plt\n",
    "plt.style.use('default')"
   ]
  },
  {
   "cell_type": "markdown",
   "metadata": {},
   "source": [
    "### 1. Import the db file"
   ]
  },
  {
   "cell_type": "code",
   "execution_count": 12,
   "metadata": {},
   "outputs": [],
   "source": [
    "db = sqlite3.connect(\"baseline_v1.4_10yrs.db\")"
   ]
  },
  {
   "cell_type": "markdown",
   "metadata": {},
   "source": [
    "### 2. Define the \"cursor\""
   ]
  },
  {
   "cell_type": "code",
   "execution_count": 13,
   "metadata": {},
   "outputs": [],
   "source": [
    "cursor = db.cursor()"
   ]
  },
  {
   "cell_type": "markdown",
   "metadata": {},
   "source": [
    "### 3. See different tables "
   ]
  },
  {
   "cell_type": "code",
   "execution_count": 14,
   "metadata": {},
   "outputs": [
    {
     "name": "stdout",
     "output_type": "stream",
     "text": [
      "[('SummaryAllProps',), ('info',), ('Proposal',)]\n"
     ]
    }
   ],
   "source": [
    "cursor.execute(\"SELECT name FROM sqlite_master WHERE type='table';\")\n",
    "print(cursor.fetchall())"
   ]
  },
  {
   "cell_type": "markdown",
   "metadata": {},
   "source": [
    "### 4. Get info about the tables with in the table"
   ]
  },
  {
   "cell_type": "code",
   "execution_count": 15,
   "metadata": {},
   "outputs": [
    {
     "name": "stdout",
     "output_type": "stream",
     "text": [
      "[(0, 'observationId', 'INTEGER', 0, None, 0), (1, 'fieldRA', 'REAL', 0, None, 0), (2, 'fieldDec', 'REAL', 0, None, 0), (3, 'observationStartMJD', 'REAL', 0, None, 0), (4, 'flush_by_mjd', 'REAL', 0, None, 0), (5, 'visitExposureTime', 'REAL', 0, None, 0), (6, 'filter', 'TEXT', 0, None, 0), (7, 'rotSkyPos', 'REAL', 0, None, 0), (8, 'numExposures', 'INTEGER', 0, None, 0), (9, 'airmass', 'REAL', 0, None, 0), (10, 'seeingFwhm500', 'REAL', 0, None, 0), (11, 'seeingFwhmEff', 'REAL', 0, None, 0), (12, 'seeingFwhmGeom', 'REAL', 0, None, 0), (13, 'skyBrightness', 'REAL', 0, None, 0), (14, 'night', 'INTEGER', 0, None, 0), (15, 'slewTime', 'REAL', 0, None, 0), (16, 'visitTime', 'REAL', 0, None, 0), (17, 'slewDistance', 'REAL', 0, None, 0), (18, 'fiveSigmaDepth', 'REAL', 0, None, 0), (19, 'altitude', 'REAL', 0, None, 0), (20, 'azimuth', 'REAL', 0, None, 0), (21, 'paraAngle', 'REAL', 0, None, 0), (22, 'cloud', 'REAL', 0, None, 0), (23, 'moonAlt', 'REAL', 0, None, 0), (24, 'sunAlt', 'REAL', 0, None, 0), (25, 'note', 'TEXT', 0, None, 0), (26, 'fieldId', 'INTEGER', 0, None, 0), (27, 'proposalId', 'INTEGER', 0, None, 0), (28, 'block_id', 'INTEGER', 0, None, 0), (29, 'observationStartLST', 'REAL', 0, None, 0), (30, 'rotTelPos', 'REAL', 0, None, 0), (31, 'moonAz', 'REAL', 0, None, 0), (32, 'sunAz', 'REAL', 0, None, 0), (33, 'sunRA', 'REAL', 0, None, 0), (34, 'sunDec', 'REAL', 0, None, 0), (35, 'moonRA', 'REAL', 0, None, 0), (36, 'moonDec', 'REAL', 0, None, 0), (37, 'moonDistance', 'REAL', 0, None, 0), (38, 'solarElong', 'REAL', 0, None, 0), (39, 'moonPhase', 'REAL', 0, None, 0)]\n"
     ]
    }
   ],
   "source": [
    "cursor.execute(\"PRAGMA table_info(SummaryAllProps)\")\n",
    "print(cursor.fetchall())"
   ]
  },
  {
   "cell_type": "markdown",
   "metadata": {},
   "source": [
    "### 5. Print length of the entire data set"
   ]
  },
  {
   "cell_type": "code",
   "execution_count": 16,
   "metadata": {},
   "outputs": [
    {
     "name": "stdout",
     "output_type": "stream",
     "text": [
      "2180589\n"
     ]
    }
   ],
   "source": [
    "cursor.execute(\"SELECT fieldid, observationStartLST, filter, fiveSigmaDepth FROM SummaryAllProps\") \n",
    "summaryCursor = np.array(cursor.fetchall()) #NOTE: this takes a LONG time\n",
    "print(len(summaryCursor[:,1].astype('float')))"
   ]
  },
  {
   "cell_type": "markdown",
   "metadata": {},
   "source": [
    "### 6. Print out all of the different \"tables\" "
   ]
  },
  {
   "cell_type": "code",
   "execution_count": 17,
   "metadata": {},
   "outputs": [
    {
     "name": "stdout",
     "output_type": "stream",
     "text": [
      "[(0, 'observationId', 'INTEGER', 0, None, 0), (1, 'fieldRA', 'REAL', 0, None, 0), (2, 'fieldDec', 'REAL', 0, None, 0), (3, 'observationStartMJD', 'REAL', 0, None, 0), (4, 'flush_by_mjd', 'REAL', 0, None, 0), (5, 'visitExposureTime', 'REAL', 0, None, 0), (6, 'filter', 'TEXT', 0, None, 0), (7, 'rotSkyPos', 'REAL', 0, None, 0), (8, 'numExposures', 'INTEGER', 0, None, 0), (9, 'airmass', 'REAL', 0, None, 0), (10, 'seeingFwhm500', 'REAL', 0, None, 0), (11, 'seeingFwhmEff', 'REAL', 0, None, 0), (12, 'seeingFwhmGeom', 'REAL', 0, None, 0), (13, 'skyBrightness', 'REAL', 0, None, 0), (14, 'night', 'INTEGER', 0, None, 0), (15, 'slewTime', 'REAL', 0, None, 0), (16, 'visitTime', 'REAL', 0, None, 0), (17, 'slewDistance', 'REAL', 0, None, 0), (18, 'fiveSigmaDepth', 'REAL', 0, None, 0), (19, 'altitude', 'REAL', 0, None, 0), (20, 'azimuth', 'REAL', 0, None, 0), (21, 'paraAngle', 'REAL', 0, None, 0), (22, 'cloud', 'REAL', 0, None, 0), (23, 'moonAlt', 'REAL', 0, None, 0), (24, 'sunAlt', 'REAL', 0, None, 0), (25, 'note', 'TEXT', 0, None, 0), (26, 'fieldId', 'INTEGER', 0, None, 0), (27, 'proposalId', 'INTEGER', 0, None, 0), (28, 'block_id', 'INTEGER', 0, None, 0), (29, 'observationStartLST', 'REAL', 0, None, 0), (30, 'rotTelPos', 'REAL', 0, None, 0), (31, 'moonAz', 'REAL', 0, None, 0), (32, 'sunAz', 'REAL', 0, None, 0), (33, 'sunRA', 'REAL', 0, None, 0), (34, 'sunDec', 'REAL', 0, None, 0), (35, 'moonRA', 'REAL', 0, None, 0), (36, 'moonDec', 'REAL', 0, None, 0), (37, 'moonDistance', 'REAL', 0, None, 0), (38, 'solarElong', 'REAL', 0, None, 0), (39, 'moonPhase', 'REAL', 0, None, 0)]\n"
     ]
    }
   ],
   "source": [
    "cursor.execute(\"PRAGMA table_info(SummaryAllProps)\")\n",
    "print(cursor.fetchall()) "
   ]
  },
  {
   "cell_type": "markdown",
   "metadata": {},
   "source": [
    "### 7. Select desired values to put into a data frame"
   ]
  },
  {
   "cell_type": "code",
   "execution_count": 18,
   "metadata": {},
   "outputs": [],
   "source": [
    "MJD= cursor.execute(\"select observationStartMJD FROM SummaryAllProps\")\n",
    "MJD= cursor.fetchall() \n",
    "MJD=[i[0] for i in MJD] \n",
    "# Start Date for LSST is 59853.985644\n",
    "Days_Since_Start = MJD - np.array(59853.985644) \n",
    "\n",
    "\n",
    "RA = cursor.execute(\"select fieldra FROM SummaryAllProps\") \n",
    "RA=[i[0] for i in RA]\n",
    "\n",
    "Dec = cursor.execute(\"select fieldDec FROM SummaryAllProps\") \n",
    "Dec = cursor.fetchall()\n",
    "Dec=[i[0] for i in Dec]\n",
    "\n",
    "skybrightness = cursor.execute(\"select skyBrightness FROM SummaryAllProps\")\n",
    "skybrightness = cursor.fetchall()\n",
    "skybrightness = [i[0] for i in skybrightness]\n",
    "\n",
    "moonphase = cursor.execute(\"select moonphase FROM SummaryAllProps\")\n",
    "moonphase = cursor.fetchall()\n",
    "moonphase = [i[0] for i in moonphase]\n",
    "\n",
    "cloud = cursor.execute(\"select cloud FROM SummaryAllProps\")\n",
    "cloud = cursor.fetchall()\n",
    "cloud = [i[0] for i in cloud]\n",
    "\n",
    "airmass = cursor.execute(\"select airmass FROM SummaryAllProps\")\n",
    "airmass = cursor.fetchall()\n",
    "airmass = [i[0] for i in airmass]\n",
    "\n",
    "filter = cursor.execute(\"select filter FROM SummaryAllProps\")\n",
    "filter = cursor.fetchall()\n",
    "filter =[i[0] for i in filter]\n",
    "\n",
    "#Convert Filter g,b,v,r,i into numbers that can be shown on the colormap\n",
    "# filter_num = []\n",
    "# for i in range(0,len(filter)): \n",
    "#     if filter[i] == 'g':\n",
    "#         filter[i] = 1e4\n",
    "#     if filter[i] == 'b':\n",
    "#         filter[i] == 1\n",
    "    \n",
    "#     filter_num.append(filter)"
   ]
  },
  {
   "cell_type": "markdown",
   "metadata": {},
   "source": [
    "### 8. Put values into data  frame"
   ]
  },
  {
   "cell_type": "code",
   "execution_count": 21,
   "metadata": {},
   "outputs": [
    {
     "data": {
      "text/html": [
       "<div>\n",
       "<style scoped>\n",
       "    .dataframe tbody tr th:only-of-type {\n",
       "        vertical-align: middle;\n",
       "    }\n",
       "\n",
       "    .dataframe tbody tr th {\n",
       "        vertical-align: top;\n",
       "    }\n",
       "\n",
       "    .dataframe thead th {\n",
       "        text-align: right;\n",
       "    }\n",
       "</style>\n",
       "<table border=\"1\" class=\"dataframe\">\n",
       "  <thead>\n",
       "    <tr style=\"text-align: right;\">\n",
       "      <th></th>\n",
       "      <th>Days_Since_Start</th>\n",
       "      <th>RA</th>\n",
       "      <th>Dec</th>\n",
       "      <th>skybrightness</th>\n",
       "      <th>moonphase</th>\n",
       "      <th>cloud</th>\n",
       "      <th>airmass</th>\n",
       "      <th>filter</th>\n",
       "    </tr>\n",
       "  </thead>\n",
       "  <tbody>\n",
       "    <tr>\n",
       "      <td>0</td>\n",
       "      <td>-1.791486e-07</td>\n",
       "      <td>294.696105</td>\n",
       "      <td>4.470982</td>\n",
       "      <td>18.304678</td>\n",
       "      <td>42.296595</td>\n",
       "      <td>0.0</td>\n",
       "      <td>1.216566</td>\n",
       "      <td>g</td>\n",
       "    </tr>\n",
       "    <tr>\n",
       "      <td>50</td>\n",
       "      <td>2.207091e-02</td>\n",
       "      <td>315.147446</td>\n",
       "      <td>-50.445865</td>\n",
       "      <td>18.530188</td>\n",
       "      <td>42.403654</td>\n",
       "      <td>0.0</td>\n",
       "      <td>1.080051</td>\n",
       "      <td>g</td>\n",
       "    </tr>\n",
       "    <tr>\n",
       "      <td>100</td>\n",
       "      <td>4.286855e-02</td>\n",
       "      <td>310.750035</td>\n",
       "      <td>-68.862225</td>\n",
       "      <td>18.364862</td>\n",
       "      <td>42.509076</td>\n",
       "      <td>0.0</td>\n",
       "      <td>1.279886</td>\n",
       "      <td>g</td>\n",
       "    </tr>\n",
       "    <tr>\n",
       "      <td>150</td>\n",
       "      <td>6.384219e-02</td>\n",
       "      <td>321.326185</td>\n",
       "      <td>-44.140467</td>\n",
       "      <td>18.577686</td>\n",
       "      <td>42.621052</td>\n",
       "      <td>0.0</td>\n",
       "      <td>1.031300</td>\n",
       "      <td>g</td>\n",
       "    </tr>\n",
       "    <tr>\n",
       "      <td>200</td>\n",
       "      <td>8.485535e-02</td>\n",
       "      <td>320.993922</td>\n",
       "      <td>-62.831260</td>\n",
       "      <td>18.439284</td>\n",
       "      <td>42.739344</td>\n",
       "      <td>0.0</td>\n",
       "      <td>1.188577</td>\n",
       "      <td>g</td>\n",
       "    </tr>\n",
       "    <tr>\n",
       "      <td>...</td>\n",
       "      <td>...</td>\n",
       "      <td>...</td>\n",
       "      <td>...</td>\n",
       "      <td>...</td>\n",
       "      <td>...</td>\n",
       "      <td>...</td>\n",
       "      <td>...</td>\n",
       "      <td>...</td>\n",
       "    </tr>\n",
       "    <tr>\n",
       "      <td>2180350</td>\n",
       "      <td>3.652300e+03</td>\n",
       "      <td>64.503542</td>\n",
       "      <td>-33.170697</td>\n",
       "      <td>22.254113</td>\n",
       "      <td>19.718625</td>\n",
       "      <td>0.0</td>\n",
       "      <td>1.055799</td>\n",
       "      <td>z</td>\n",
       "    </tr>\n",
       "    <tr>\n",
       "      <td>2180400</td>\n",
       "      <td>3.652322e+03</td>\n",
       "      <td>54.605726</td>\n",
       "      <td>-12.230438</td>\n",
       "      <td>22.154158</td>\n",
       "      <td>19.569410</td>\n",
       "      <td>0.0</td>\n",
       "      <td>1.053610</td>\n",
       "      <td>z</td>\n",
       "    </tr>\n",
       "    <tr>\n",
       "      <td>2180450</td>\n",
       "      <td>3.652346e+03</td>\n",
       "      <td>41.874745</td>\n",
       "      <td>-15.042425</td>\n",
       "      <td>21.095537</td>\n",
       "      <td>19.419849</td>\n",
       "      <td>0.0</td>\n",
       "      <td>1.079142</td>\n",
       "      <td>z</td>\n",
       "    </tr>\n",
       "    <tr>\n",
       "      <td>2180500</td>\n",
       "      <td>3.652370e+03</td>\n",
       "      <td>48.871737</td>\n",
       "      <td>-7.585806</td>\n",
       "      <td>20.288312</td>\n",
       "      <td>19.274071</td>\n",
       "      <td>0.0</td>\n",
       "      <td>1.142958</td>\n",
       "      <td>z</td>\n",
       "    </tr>\n",
       "    <tr>\n",
       "      <td>2180550</td>\n",
       "      <td>3.652392e+03</td>\n",
       "      <td>92.539052</td>\n",
       "      <td>-2.643774</td>\n",
       "      <td>20.207910</td>\n",
       "      <td>19.152956</td>\n",
       "      <td>0.0</td>\n",
       "      <td>1.176380</td>\n",
       "      <td>z</td>\n",
       "    </tr>\n",
       "  </tbody>\n",
       "</table>\n",
       "<p>43612 rows × 8 columns</p>\n",
       "</div>"
      ],
      "text/plain": [
       "         Days_Since_Start          RA        Dec  skybrightness  moonphase  \\\n",
       "0           -1.791486e-07  294.696105   4.470982      18.304678  42.296595   \n",
       "50           2.207091e-02  315.147446 -50.445865      18.530188  42.403654   \n",
       "100          4.286855e-02  310.750035 -68.862225      18.364862  42.509076   \n",
       "150          6.384219e-02  321.326185 -44.140467      18.577686  42.621052   \n",
       "200          8.485535e-02  320.993922 -62.831260      18.439284  42.739344   \n",
       "...                   ...         ...        ...            ...        ...   \n",
       "2180350      3.652300e+03   64.503542 -33.170697      22.254113  19.718625   \n",
       "2180400      3.652322e+03   54.605726 -12.230438      22.154158  19.569410   \n",
       "2180450      3.652346e+03   41.874745 -15.042425      21.095537  19.419849   \n",
       "2180500      3.652370e+03   48.871737  -7.585806      20.288312  19.274071   \n",
       "2180550      3.652392e+03   92.539052  -2.643774      20.207910  19.152956   \n",
       "\n",
       "         cloud   airmass filter  \n",
       "0          0.0  1.216566      g  \n",
       "50         0.0  1.080051      g  \n",
       "100        0.0  1.279886      g  \n",
       "150        0.0  1.031300      g  \n",
       "200        0.0  1.188577      g  \n",
       "...        ...       ...    ...  \n",
       "2180350    0.0  1.055799      z  \n",
       "2180400    0.0  1.053610      z  \n",
       "2180450    0.0  1.079142      z  \n",
       "2180500    0.0  1.142958      z  \n",
       "2180550    0.0  1.176380      z  \n",
       "\n",
       "[43612 rows x 8 columns]"
      ]
     },
     "execution_count": 21,
     "metadata": {},
     "output_type": "execute_result"
    }
   ],
   "source": [
    "obsv = {\n",
    "        'Days_Since_Start': Days_Since_Start,\n",
    "        'RA': RA,\n",
    "        'Dec': Dec,\n",
    "        'skybrightness': skybrightness, \n",
    "        'moonphase': moonphase,\n",
    "        'cloud': cloud,\n",
    "        'airmass': airmass,\n",
    "        'filter':filter\n",
    "        }\n",
    "\n",
    "df = pd.DataFrame(obsv, columns= [ 'Days_Since_Start','RA','Dec','skybrightness','moonphase','cloud','airmass','filter'])\n",
    "df = (df[0:2180589:50]) #There are 209799 values for JUST the green filter. Count by 100+ to reduce length \n",
    "\n",
    "df\n"
   ]
  },
  {
   "cell_type": "markdown",
   "metadata": {},
   "source": [
    "### 9. Export data frame to CSV file"
   ]
  },
  {
   "cell_type": "code",
   "execution_count": 22,
   "metadata": {},
   "outputs": [],
   "source": [
    "df.to_csv(r'/Users/candicestauffer/desktop/VIS_proj/src/data/Rubin_data.csv', index = True)"
   ]
  },
  {
   "cell_type": "code",
   "execution_count": null,
   "metadata": {},
   "outputs": [],
   "source": []
  },
  {
   "cell_type": "code",
   "execution_count": null,
   "metadata": {},
   "outputs": [],
   "source": []
  }
 ],
 "metadata": {
  "kernelspec": {
   "display_name": "Python 3",
   "language": "python",
   "name": "python3"
  },
  "language_info": {
   "codemirror_mode": {
    "name": "ipython",
    "version": 3
   },
   "file_extension": ".py",
   "mimetype": "text/x-python",
   "name": "python",
   "nbconvert_exporter": "python",
   "pygments_lexer": "ipython3",
   "version": "3.7.4"
  }
 },
 "nbformat": 4,
 "nbformat_minor": 2
}
