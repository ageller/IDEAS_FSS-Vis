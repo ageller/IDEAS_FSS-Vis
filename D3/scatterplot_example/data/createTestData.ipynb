{
 "cells": [
  {
   "cell_type": "markdown",
   "metadata": {},
   "source": [
    "# Make some dummy data to plot "
   ]
  },
  {
   "cell_type": "code",
   "execution_count": 1,
   "metadata": {},
   "outputs": [],
   "source": [
    "import numpy as np\n",
    "import pandas as pd"
   ]
  },
  {
   "cell_type": "code",
   "execution_count": 2,
   "metadata": {},
   "outputs": [],
   "source": [
    "def gauss_2d(N, xmu, xsigma, ymu, ysigma):\n",
    "    x = np.random.normal(loc=xmu, scale=xsigma, size=N)\n",
    "    y = np.random.normal(loc=ymu, scale=ysigma, size=N)\n",
    "    return (x, y)"
   ]
  },
  {
   "cell_type": "code",
   "execution_count": 9,
   "metadata": {},
   "outputs": [],
   "source": [
    "def appendArrays(arr):\n",
    "    out = np.array([])\n",
    "    for a in arr:\n",
    "        out = np.append(out,a)\n",
    "    return out"
   ]
  },
  {
   "cell_type": "code",
   "execution_count": 16,
   "metadata": {},
   "outputs": [],
   "source": [
    "xval1, yval1 = gauss_2d(500, 0.5, 0.2, 0.1, 0.4)\n",
    "xval2, yval2 = gauss_2d(100, 0.1, 0.3, 0.7, 0.2)\n",
    "xval3, yval3 = gauss_2d(50, 0.7, 0.2, 0.5, 0.3)\n",
    "label1 = np.ones_like(xval1)\n",
    "label2 = np.ones_like(xval2)*2\n",
    "label3 = np.ones_like(xval3)*3"
   ]
  },
  {
   "cell_type": "code",
   "execution_count": 17,
   "metadata": {},
   "outputs": [],
   "source": [
    "xval = appendArrays([xval1, xval2, xval3])\n",
    "yval = appendArrays([yval1, yval2, yval3])\n",
    "label = appendArrays([label1, label2, label3])\n",
    "data = {'x':xval,'y':yval,'label':label}"
   ]
  },
  {
   "cell_type": "code",
   "execution_count": 18,
   "metadata": {},
   "outputs": [],
   "source": [
    "df = pd.DataFrame(data).to_csv('testData.csv')"
   ]
  },
  {
   "cell_type": "code",
   "execution_count": null,
   "metadata": {},
   "outputs": [],
   "source": []
  }
 ],
 "metadata": {
  "kernelspec": {
   "display_name": "Python 3",
   "language": "python",
   "name": "python3"
  },
  "language_info": {
   "codemirror_mode": {
    "name": "ipython",
    "version": 3
   },
   "file_extension": ".py",
   "mimetype": "text/x-python",
   "name": "python",
   "nbconvert_exporter": "python",
   "pygments_lexer": "ipython3",
   "version": "3.7.3"
  }
 },
 "nbformat": 4,
 "nbformat_minor": 2
}
