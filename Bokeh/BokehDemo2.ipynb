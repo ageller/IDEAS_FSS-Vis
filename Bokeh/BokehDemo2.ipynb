{
 "cells": [
  {
   "cell_type": "markdown",
   "metadata": {},
   "source": [
    "# Bokeh Demo 2\n",
    "\n",
    "*Create a version with widgets, adapted from here :*\n",
    "\n",
    "http://bokeh.pydata.org/en/latest/docs/gallery/slider.html"
   ]
  },
  {
   "cell_type": "code",
   "execution_count": null,
   "metadata": {},
   "outputs": [],
   "source": [
    "from jupyterthemes import jtplot\n",
    "jtplot.reset()\n",
    "\n",
    "import numpy as np\n",
    "from bokeh.plotting import *\n",
    "from bokeh.layouts import row, column\n",
    "from bokeh.models import ColumnDataSource, CustomJS, Slider\n",
    "output_notebook()\n",
    "output_file(\"linked_brushing_slider.html\", title='Bokeh demo 2')"
   ]
  },
  {
   "cell_type": "code",
   "execution_count": null,
   "metadata": {},
   "outputs": [],
   "source": [
    "# prepare some date\n",
    "N = 300\n",
    "x = np.linspace(0, 4*np.pi, N)\n",
    "y0 = np.sin(x)\n",
    "y1 = np.cos(x)\n",
    "\n",
    "# create a column data source for the plots to share\n",
    "source = ColumnDataSource(data=dict(x=x, y0=y0, y1=y1))\n",
    "\n",
    "TOOLS = \"pan,wheel_zoom,box_zoom,reset,save,box_select,lasso_select\"\n",
    "\n",
    "# create a new plot and add a renderer\n",
    "left = figure(tools=TOOLS, width=350, height=350, title=None)\n",
    "left.line('x', 'y0', source=source, color='red', line_width=2, line_alpha=0.4)\n",
    "left.circle('x', 'y0', source=source, color='red')\n",
    "\n",
    "# create another new plot and add a renderer\n",
    "right = figure(tools=TOOLS, width=350, height=350, title=None)\n",
    "right.line('x', 'y1', source=source, color='blue', line_width=2, line_alpha=0.4)\n",
    "right.circle('x', 'y1', source=source, color='blue')\n",
    "\n",
    "# put the subplots in a gridplot\n",
    "p = gridplot([[left, right]])\n",
    "\n",
    "#define the sliders\n",
    "amp_slider = Slider(start=0.1, end=10, value=1, step=.1, title=\"Amplitude\")\n",
    "freq_slider = Slider(start=0.1, end=10, value=1, step=.1, title=\"Frequency\")\n",
    "phase_slider = Slider(start=0, end=6.4, value=0, step=.1,title=\"Phase\")\n",
    "offset_slider = Slider(start=-5, end=5, value=0, step=.1,title=\"Offset\")\n",
    "\n",
    "sliderCallback = CustomJS(args=dict(source=source, amp=amp_slider, freq=freq_slider, phase=phase_slider, \n",
    "                                   offset=offset_slider), code=\"\"\"\n",
    "    var data = source.data;\n",
    "    var A = amp.value;\n",
    "    var k = freq.value;\n",
    "    var phi = phase.value;\n",
    "    var B = offset.value;\n",
    "    var x = data['x'];\n",
    "    var y0 = data['y0'];\n",
    "    var y1 = data['y1'];\n",
    "    for (var i = 0; i < x.length; i++) {\n",
    "        y0[i] = B + A*Math.sin(k*x[i]+phi);\n",
    "        y1[i] = B + A*Math.cos(k*x[i]+phi);\n",
    "    }\n",
    "    source.change.emit();\n",
    "\"\"\")\n",
    "\n",
    "amp_slider.js_on_change('value', sliderCallback)\n",
    "freq_slider.js_on_change('value', sliderCallback)\n",
    "phase_slider.js_on_change('value', sliderCallback)\n",
    "offset_slider.js_on_change('value', sliderCallback)\n",
    "\n",
    "layout = row(\n",
    "    p,\n",
    "    column(amp_slider, freq_slider, phase_slider, offset_slider),\n",
    ")\n",
    "show(layout)"
   ]
  },
  {
   "cell_type": "code",
   "execution_count": null,
   "metadata": {},
   "outputs": [],
   "source": []
  }
 ],
 "metadata": {
  "kernelspec": {
   "display_name": "Python 3",
   "language": "python",
   "name": "python3"
  },
  "language_info": {
   "codemirror_mode": {
    "name": "ipython",
    "version": 3
   },
   "file_extension": ".py",
   "mimetype": "text/x-python",
   "name": "python",
   "nbconvert_exporter": "python",
   "pygments_lexer": "ipython3",
   "version": "3.7.7"
  }
 },
 "nbformat": 4,
 "nbformat_minor": 2
}
