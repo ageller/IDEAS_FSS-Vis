{
 "cells": [
  {
   "cell_type": "code",
   "execution_count": 1,
   "metadata": {},
   "outputs": [],
   "source": [
    "import numpy as np\n",
    "import pandas as pd\n",
    "\n",
    "from bokeh.io import output_file, show\n",
    "from bokeh.models import HoverTool\n",
    "from bokeh.plotting import figure\n",
    "from bokeh.models import CustomJS, Slider\n",
    "import glob\n",
    "\n",
    "df = pd.read_csv('ss.10000000.r.bt', delim_whitespace=True, \n",
    "     names=('orig ID', 'ID', 'mass', 'radius', 'x', 'y', 'z', 'vx', 'vy', 'vz', 'sx', 'sy', 'sz', 'color'))\n",
    "\n",
    "#r = df['r'] = np.power((df['x']**2)+(df['y']**2)+(df['z']**2),0.5)\n",
    "#theta = df['theta'] = np.arctan(df['y']/df['x'])\n",
    "#phi = df['phi'] = np.arccos(df['z']/df['r'])\n",
    "\n",
    "x = df['x']\n",
    "y = df['y']\n",
    "\n",
    "p = figure(title=\"Particles During Collapse\", match_aspect=True,\n",
    "           tools=\"wheel_zoom,reset\", background_fill_color='black')\n",
    "\n",
    "p.ygrid.minor_grid_line_color = 'white'\n",
    "p.ygrid.minor_grid_line_alpha = 0.1\n",
    "p.yaxis.axis_label = \"AU\"\n",
    "p.xgrid.minor_grid_line_color = 'white'\n",
    "p.xgrid.minor_grid_line_alpha = 0.1\n",
    "p.xaxis.axis_label = \"AU\"\n",
    "p.grid.visible = True\n",
    "\n",
    "r, bins = p.hexbin(x, y, size=0.000005, hover_color=\"blanchedalmond\", hover_alpha=0.5)\n",
    "\n",
    "p.circle(x, y, color=\"white\", size=1)\n",
    "\n",
    "p.add_tools(HoverTool(\n",
    "    tooltips=[(\"count\", \"@c\"), (\"(q,r)\", \"(@q, @r)\")],\n",
    "    mode=\"mouse\", point_policy=\"follow_mouse\", renderers=[r]\n",
    "))\n",
    "\n",
    "output_file(\"particles.html\")\n",
    "\n",
    "show(p)"
   ]
  },
  {
   "cell_type": "code",
   "execution_count": null,
   "metadata": {},
   "outputs": [],
   "source": []
  }
 ],
 "metadata": {
  "kernelspec": {
   "display_name": "Python 3",
   "language": "python",
   "name": "python3"
  },
  "language_info": {
   "codemirror_mode": {
    "name": "ipython",
    "version": 3
   },
   "file_extension": ".py",
   "mimetype": "text/x-python",
   "name": "python",
   "nbconvert_exporter": "python",
   "pygments_lexer": "ipython3",
   "version": "3.7.3"
  }
 },
 "nbformat": 4,
 "nbformat_minor": 2
}
