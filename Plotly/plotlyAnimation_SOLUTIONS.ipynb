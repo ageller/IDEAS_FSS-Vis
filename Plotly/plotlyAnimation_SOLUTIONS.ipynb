{
 "cells": [
  {
   "cell_type": "markdown",
   "metadata": {},
   "source": [
    "# Plotly demo\n",
    "\n",
    "We'll begin with plotly express, which is very simple but not very customizable.  Let's work from an example in their intro to animation : https://plotly.com/python/animations/\n",
    "\n",
    "But also look at their full gallery : https://plotly.com/python/plotly-express/\n",
    "\n",
    "And some documentation : https://plotly.github.io/plotly.py-docs/generated/plotly.express.html\n",
    "\n",
    "*Aaron Geller Aug. 26, 2020*"
   ]
  },
  {
   "cell_type": "code",
   "execution_count": null,
   "metadata": {},
   "outputs": [],
   "source": [
    "import plotly.express as px"
   ]
  },
  {
   "cell_type": "code",
   "execution_count": null,
   "metadata": {},
   "outputs": [],
   "source": [
    "df = px.data.gapminder()\n",
    "px.scatter(df, x=\"gdpPercap\", y=\"lifeExp\", animation_frame=\"year\", animation_group=\"country\",\n",
    "           size=\"pop\", color=\"continent\", hover_name=\"country\",\n",
    "           log_x=True, size_max=55, range_x=[100,100000], range_y=[25,90])"
   ]
  },
  {
   "cell_type": "markdown",
   "metadata": {},
   "source": [
    "## Activity 1\n",
    "\n",
    "Instead of the default \"gapminder\" data, use the tripcoll.csv file in the datasets directory.  This is a N-body scattering experiment between a triple-star system and a binary-star system (a 3+2 encounter), with a collision.\n",
    "\n",
    "We want to show an animation of the particle positions as a function of time, in 2D.  The size should be defined by the mass of the object.  The color should be defined by the starID, but we want discrete colors (not a continous colormap).  Be sure that the aspect ratio of the plot is correct (horizontal distance should be equivalent to vertical distance).  Include all/most of the encouter in the viewing window. "
   ]
  },
  {
   "cell_type": "code",
   "execution_count": null,
   "metadata": {},
   "outputs": [],
   "source": [
    "import pandas as pd"
   ]
  },
  {
   "cell_type": "code",
   "execution_count": null,
   "metadata": {},
   "outputs": [],
   "source": [
    "df = pd.read_csv('tripcoll.csv')\n",
    "df['starID'] = df['starID'].astype(str) #so the coloring is discrete (otherwise would be continous w/ a colormap)\n",
    "df"
   ]
  },
  {
   "cell_type": "code",
   "execution_count": null,
   "metadata": {},
   "outputs": [],
   "source": [
    "px.scatter(df, x=\"x\", y=\"y\", animation_frame=\"time\", animation_group=\"starID\",\n",
    "           size=\"mass\", color=\"starID\", hover_name=\"starID\",\n",
    "           range_x=[-15,15], range_y=[-15,15], width=700, height=700)"
   ]
  },
  {
   "cell_type": "markdown",
   "metadata": {},
   "source": [
    "## Activity 2\n",
    "\n",
    "Use this same data set, but now plot this as a 3D animation"
   ]
  },
  {
   "cell_type": "code",
   "execution_count": null,
   "metadata": {},
   "outputs": [],
   "source": [
    "px.scatter_3d(df, x=\"x\", y=\"y\", z=\"z\", animation_frame=\"time\", animation_group=\"starID\",\n",
    "           size=\"mass\", color=\"starID\", hover_name=\"starID\",\n",
    "           range_x=[-15,15], range_y=[-15,15], range_z=[-15,15], width=700, height=700)"
   ]
  },
  {
   "cell_type": "markdown",
   "metadata": {},
   "source": [
    "## Activity 3\n",
    "\n",
    "Use plotly express to plot the encounter as lines, not animated."
   ]
  },
  {
   "cell_type": "code",
   "execution_count": null,
   "metadata": {},
   "outputs": [],
   "source": [
    "px.line(df, x=\"x\", y=\"y\", color=\"starID\", line_group=\"starID\", hover_name=\"starID\",\n",
    "        line_shape=\"spline\", render_mode=\"svg\", range_x=[-15,15], range_y=[-15,15], width=700, height=700)"
   ]
  },
  {
   "cell_type": "markdown",
   "metadata": {},
   "source": [
    "# Animate the scatter plot with trails\n",
    "\n",
    "We'd like to show the scatter plot with trails extending from the current time back to t=0.  This is not possible with plotly express (as far as I know).  So let's move to the full plotly experience. \n",
    "\n",
    "Below is an example of how to do this for one of the stars.  "
   ]
  },
  {
   "cell_type": "code",
   "execution_count": null,
   "metadata": {},
   "outputs": [],
   "source": [
    "import plotly.graph_objects as go"
   ]
  },
  {
   "cell_type": "code",
   "execution_count": null,
   "metadata": {},
   "outputs": [],
   "source": [
    "x0 = df.loc[(df['starID'] == '0')]\n",
    "\n",
    "N = len(x0.index)\n",
    "    \n",
    "# Create figure\n",
    "fig = go.Figure(\n",
    "      data=[\n",
    "           go.Scatter(x=x0[\"x\"], y=x0[\"y\"], mode=\"lines\", line=dict(width=2, color=\"blue\")),\n",
    "           go.Scatter(x=x0[\"x\"], y=x0[\"y\"], mode=\"lines\", line=dict(width=2, color=\"blue\")),\n",
    "     ],\n",
    "     layout=go.Layout(\n",
    "        xaxis=dict(range=[-15, 15], autorange=False, zeroline=False),\n",
    "        yaxis=dict(range=[-15, 15], autorange=False, zeroline=False),\n",
    "        width=700, height=700,\n",
    "        hovermode=\"closest\",\n",
    "        showlegend=False,\n",
    "        updatemenus=[dict(type=\"buttons\",\n",
    "                          buttons=[\n",
    "                              dict(label=\"Play\", method=\"animate\", args=[None, {\"frame\": {\"duration\": 1, \"redraw\": False},\"fromcurrent\": True }]),\n",
    "                              dict(label=\"Pause\", method=\"animate\", args=[[None], {\"frame\": {\"duration\": 0, \"redraw\": False}, \"mode\": \"immediate\"}])\n",
    "                          ],\n",
    "                         )\n",
    "                    ]),\n",
    "     frames=[go.Frame(\n",
    "        data=[\n",
    "            go.Scatter(x=[x0.iloc[k]['x']], y=[x0.iloc[k]['y']], mode=\"markers\", marker=dict(color=\"blue\", size=10*x0.iloc[k]['mass'])),\n",
    "            go.Scatter(x=x0.iloc[0:k]['x'].values, y=x0.iloc[0:k][\"y\"].values, mode=\"lines\", line=dict(width=2, color=\"blue\")),\n",
    "\n",
    "        ])\n",
    "\n",
    "        for k in range(N)]\n",
    ")\n",
    "\n",
    "fig.show()"
   ]
  },
  {
   "cell_type": "markdown",
   "metadata": {},
   "source": [
    "## Activity 4\n",
    "\n",
    "Add in the other 4 stars."
   ]
  },
  {
   "cell_type": "code",
   "execution_count": null,
   "metadata": {},
   "outputs": [],
   "source": [
    "import plotly.graph_objects as go\n",
    "\n",
    "\n",
    "x0 = df.loc[(df['starID'] == '0')]\n",
    "x1 = df.loc[(df['starID'] == '1')]\n",
    "x2 = df.loc[(df['starID'] == '2')]\n",
    "x3 = df.loc[(df['starID'] == '3')]\n",
    "x4 = df.loc[(df['starID'] == '4')]\n",
    "\n",
    "N = len(x0.index)\n",
    "    \n",
    "# Create figure\n",
    "fig = go.Figure(\n",
    "      data=[\n",
    "           go.Scatter(x=x0[\"x\"], y=x0[\"y\"], mode=\"lines\", line=dict(width=2, color=\"blue\")),\n",
    "           go.Scatter(x=x0[\"x\"], y=x0[\"y\"], mode=\"lines\", line=dict(width=2, color=\"blue\")),\n",
    "         \n",
    "           go.Scatter(x=x1[\"x\"], y=x1[\"y\"], mode=\"lines\", line=dict(width=2, color=\"red\")),\n",
    "           go.Scatter(x=x1[\"x\"], y=x1[\"y\"], mode=\"lines\", line=dict(width=2, color=\"red\")),\n",
    "         \n",
    "           go.Scatter(x=x2[\"x\"], y=x2[\"y\"], mode=\"lines\", line=dict(width=2, color=\"green\")),\n",
    "           go.Scatter(x=x2[\"x\"], y=x2[\"y\"], mode=\"lines\", line=dict(width=2, color=\"green\")),\n",
    "         \n",
    "           go.Scatter(x=x3[\"x\"], y=x3[\"y\"], mode=\"lines\", line=dict(width=2, color=\"purple\")),\n",
    "           go.Scatter(x=x3[\"x\"], y=x3[\"y\"], mode=\"lines\", line=dict(width=2, color=\"purple\")),\n",
    "                  \n",
    "           go.Scatter(x=x4[\"x\"], y=x4[\"y\"], mode=\"lines\", line=dict(width=2, color=\"orange\")),\n",
    "           go.Scatter(x=x4[\"x\"], y=x4[\"y\"], mode=\"lines\", line=dict(width=2, color=\"orange\")),\n",
    "     ],\n",
    "     layout=go.Layout(\n",
    "        xaxis=dict(range=[-15, 15], autorange=False, zeroline=False),\n",
    "        yaxis=dict(range=[-15, 15], autorange=False, zeroline=False),\n",
    "        width=700, height=700,\n",
    "        hovermode=\"closest\",\n",
    "        showlegend=False,\n",
    "        updatemenus=[dict(type=\"buttons\",\n",
    "                          buttons=[\n",
    "                              dict(label=\"Play\", method=\"animate\", args=[None, {\"frame\": {\"duration\": 1, \"redraw\": False},\"fromcurrent\": True }]),\n",
    "                              dict(label=\"Pause\", method=\"animate\", args=[[None], {\"frame\": {\"duration\": 0, \"redraw\": False}, \"mode\": \"immediate\"}])\n",
    "                          ],\n",
    "                         )\n",
    "                    ]),\n",
    "     frames=[go.Frame(\n",
    "        data=[\n",
    "            go.Scatter(x=[x0.iloc[k]['x']], y=[x0.iloc[k]['y']], mode=\"markers\", marker=dict(color=\"blue\", size=10*x0.iloc[k]['mass'])),\n",
    "            go.Scatter(x=x0.iloc[0:k]['x'].values, y=x0.iloc[0:k][\"y\"].values, mode=\"lines\", line=dict(width=2, color=\"blue\")),\n",
    "\n",
    "            go.Scatter(x=[x1.iloc[k]['x']], y=[x1.iloc[k]['y']], mode=\"markers\", marker=dict(color=\"red\", size=10*x1.iloc[k]['mass'])),\n",
    "            go.Scatter(x=x1.iloc[0:k]['x'].values, y=x1.iloc[0:k][\"y\"].values, mode=\"lines\", line=dict(width=2, color=\"red\")),\n",
    "            \n",
    "            go.Scatter(x=[x2.iloc[k]['x']], y=[x2.iloc[k]['y']], mode=\"markers\", marker=dict(color=\"green\", size=10*x2.iloc[k]['mass'])),\n",
    "            go.Scatter(x=x2.iloc[0:k]['x'].values, y=x2.iloc[0:k][\"y\"].values, mode=\"lines\", line=dict(width=2, color=\"green\")),\n",
    "            \n",
    "            go.Scatter(x=[x3.iloc[k]['x']], y=[x3.iloc[k]['y']], mode=\"markers\", marker=dict(color=\"purple\", size=10*x3.iloc[k]['mass'])),\n",
    "            go.Scatter(x=x3.iloc[0:k]['x'].values, y=x3.iloc[0:k][\"y\"].values, mode=\"lines\", line=dict(width=2, color=\"purple\")),\n",
    "            \n",
    "            go.Scatter(x=[x4.iloc[k]['x']], y=[x4.iloc[k]['y']], mode=\"markers\", marker=dict(color=\"orange\", size=10*x4.iloc[k]['mass'])),\n",
    "            go.Scatter(x=x4.iloc[0:k]['x'].values, y=x4.iloc[0:k][\"y\"].values, mode=\"lines\", line=dict(width=2, color=\"orange\")),\n",
    "        ])\n",
    "\n",
    "        for k in range(N)]\n",
    ")\n",
    "\n",
    "fig.show()"
   ]
  },
  {
   "cell_type": "code",
   "execution_count": null,
   "metadata": {},
   "outputs": [],
   "source": []
  }
 ],
 "metadata": {
  "kernelspec": {
   "display_name": "Python 3",
   "language": "python",
   "name": "python3"
  },
  "language_info": {
   "codemirror_mode": {
    "name": "ipython",
    "version": 3
   },
   "file_extension": ".py",
   "mimetype": "text/x-python",
   "name": "python",
   "nbconvert_exporter": "python",
   "pygments_lexer": "ipython3",
   "version": "3.8.3"
  }
 },
 "nbformat": 4,
 "nbformat_minor": 4
}
